{
 "cells": [
  {
   "cell_type": "code",
   "execution_count": 1,
   "id": "4615a83d-b9cd-4c1d-84df-d5e75c894c71",
   "metadata": {
    "ExecuteTime": {
     "end_time": "2023-05-23T15:01:01.387894429Z",
     "start_time": "2023-05-23T15:01:01.366280485Z"
    }
   },
   "source": [
    "cd .."
   ],
   "outputs": []
  },
  {
   "cell_type": "markdown",
   "id": "d5a073f0-ba9d-4545-a0f4-a49d638b7695",
   "metadata": {},
   "source": [
    "# Multi-omics stratification on PDAC patients"
   ]
  },
  {
   "cell_type": "code",
   "execution_count": 3,
   "id": "fa7dffc4-d560-47bb-84b8-a6870d4824a1",
   "metadata": {
    "ExecuteTime": {
     "end_time": "2023-05-23T15:01:03.420757620Z",
     "start_time": "2023-05-23T15:01:03.416255778Z"
    }
   },
   "source": [
    "import os\n",
    "import pandas as pd\n",
    "import numpy as np\n",
    "from sklearn.preprocessing import StandardScaler\n",
    "from sklearn.pipeline import make_pipeline\n",
    "from sklearn.cluster import KMeans\n",
    "import plotly.express as px\n",
    "from sklearn.decomposition import PCA\n",
    "from sklearn.manifold import TSNE\n",
    "from umap import UMAP\n",
    "import optuna\n",
    "import dill\n",
    "from torch.utils.data import DataLoader\n",
    "from pytorch_lightning.utilities.seed import isolate_rng\n",
    "import torch\n",
    "import seaborn as sns\n",
    "from lifelines.statistics import multivariate_logrank_test\n",
    "from lifelines import KaplanMeierFitter, CoxPHFitter\n",
    "import matplotlib.pyplot as plt\n",
    "from lifelines.plotting import add_at_risk_counts\n",
    "from scipy.stats import chi2_contingency, kruskal, wilcoxon\n",
    "\n",
    "from src import settings\n",
    "from utils import MultiViewDataset, transform_full_dataset\n",
    "from optimization import Optimization"
   ],
   "outputs": []
  },
  {
   "cell_type": "markdown",
   "id": "5991e212-7498-4da5-b089-c355594b1113",
   "metadata": {},
   "source": [
    "## Load dataset"
   ]
  },
  {
   "cell_type": "code",
   "execution_count": 4,
   "id": "41379737-85fa-4efe-8ef8-81ea04fec690",
   "metadata": {},
   "source": [
    "clinical_data = pd.read_csv(settings.clinical_data_path, sep=\"\\t\")\n",
    "clinical_data = clinical_data.set_index(\"Patient ID\")\n",
    "clinical_data.index.name = None\n",
    "print(\"clinical_data.shape\", clinical_data.shape)\n",
    "clinical_data.head()"
   ],
   "outputs": []
  },
  {
   "cell_type": "code",
   "execution_count": 5,
   "id": "525e21f1-eb98-424d-91e1-328329b4e786",
   "metadata": {
    "ExecuteTime": {
     "end_time": "2023-05-23T15:01:09.194541257Z",
     "start_time": "2023-05-23T15:01:05.607110Z"
    }
   },
   "source": [
    "methylation_data = pd.read_csv(settings.methylation_data_path, sep=\";\", index_col=0, decimal=\",\")\n",
    "methylation_data.columns = methylation_data.columns.str.replace(\".\", \"-\")\n",
    "methylation_data = methylation_data.T\n",
    "methylation_data = methylation_data.astype(np.float32)\n",
    "print(\"methylation_data.shape\", methylation_data.shape)\n",
    "methylation_data.head()"
   ],
   "outputs": []
  },
  {
   "cell_type": "code",
   "execution_count": 8,
   "id": "5ba9fa3a-ba17-49a1-86ef-6b399dfaafed",
   "metadata": {
    "ExecuteTime": {
     "end_time": "2023-05-23T15:01:09.359360346Z",
     "start_time": "2023-05-23T15:01:09.194876421Z"
    }
   },
   "source": [
    "rnaseq_data = pd.read_csv(settings.rnaseq_data_path, sep=\";\", index_col=0, decimal=\",\")\n",
    "rnaseq_data = rnaseq_data.T\n",
    "rnaseq_data = rnaseq_data.astype(np.float32)\n",
    "print(\"rnaseq_data.shape\", rnaseq_data.shape)\n",
    "rnaseq_data.head()"
   ],
   "outputs": []
  },
  {
   "cell_type": "code",
   "execution_count": 9,
   "id": "e9f89678-93ce-419e-9d58-386a8d45026f",
   "metadata": {
    "ExecuteTime": {
     "end_time": "2023-05-23T15:01:11.293572678Z",
     "start_time": "2023-05-23T15:01:11.249405517Z"
    }
   },
   "source": [
    "samples = methylation_data.index.intersection(rnaseq_data.index)\n",
    "methylation_data = methylation_data.loc[samples]\n",
    "rnaseq_data = rnaseq_data.loc[samples]\n",
    "assert methylation_data.index.equals(rnaseq_data.index)\n",
    "clinical_data = clinical_data.loc[samples]\n",
    "assert methylation_data.index.equals(clinical_data.index)\n",
    "Xs= [rnaseq_data, methylation_data]\n",
    "print(\"common samples:\", len(samples))"
   ],
   "outputs": []
  },
  {
   "cell_type": "code",
   "execution_count": 10,
   "id": "b13f9a31-7086-482a-88b6-1d7d34708c43",
   "metadata": {
    "ExecuteTime": {
     "end_time": "2023-05-23T15:01:44.123341892Z",
     "start_time": "2023-05-23T15:01:28.472433387Z"
    },
    "scrolled": true
   },
   "source": [
    "date = \"2023070315\"\n",
    "with open(os.path.join(settings.optimization_path, f'optimization_optuna_{date}.pkl'), 'rb') as file:\n",
    "    optimization_study = dill.load(file)"
   ],
   "outputs": []
  },
  {
   "cell_type": "code",
   "execution_count": 11,
   "id": "b613bd30-1831-41d6-adb2-e1f8de8cddb1",
   "metadata": {},
   "source": [
    "optimization_results = pd.read_csv(os.path.join(settings.optimization_path, f\"optimization_results_{date}.csv\"))\n",
    "best_trial = optimization_results.iloc[0]\n",
    "print(\"optimization_results.shape\", optimization_results.shape)\n",
    "optimization_results.head()"
   ],
   "outputs": []
  },
  {
   "cell_type": "code",
   "execution_count": 70,
   "id": "8fb09dd1-07b1-4c9f-b9e7-bff4325ec12c",
   "metadata": {},
   "source": [
    "param_importances = optuna.importance.get_param_importances(optimization_study)"
   ],
   "outputs": []
  },
  {
   "cell_type": "code",
   "execution_count": 27,
   "id": "f75d0e1c-d089-42db-bf78-e03d3d96a068",
   "metadata": {},
   "source": [
    "max_value = optimization_results[\"value\"].min()\n",
    "max_values = []\n",
    "for i in optimization_results.sort_values(by= \"number\")[\"value\"]:\n",
    "    if i > max_value:\n",
    "        max_value = i\n",
    "    max_values.append(max_value)"
   ],
   "outputs": []
  },
  {
   "cell_type": "code",
   "execution_count": 79,
   "id": "d699ff1b-e0cf-468c-a415-271f5f301009",
   "metadata": {},
   "source": [
    "date = \"2023070315\"\n",
    "with open(os.path.join(settings.optimization_path, f'optimization_optuna_{date}.pkl'), 'rb') as file:\n",
    "    optimization_study = dill.load(file)\n",
    "\n",
    "fig, axes = plt.subplots(1,2, figsize= (20, 3))\n",
    "\n",
    "ax= axes[0]\n",
    "optimization_results.plot.scatter(x='number', y='value', ax= ax, s= 3, xlabel= \"Trial\", ylabel= \"Silhouette Score\")\n",
    "pd.Series(max_values).plot(ax= ax, c= \"red\")\n",
    "\n",
    "ax= axes[1]\n",
    "pd.Series(param_importances).plot.bar(ax= ax, xlabel= \"Hyperparameter\", ylabel= \"Importance for Silhouette Score\", rot= 4top25_neuron10_fi.png)\n",
    "_ = ax.set_xticklabels([\"Number of clusters\", \"Number of epochs\", \"Latent space\", \"Inverse proportion of units\", \"Lambda coefficient\", \"Number of layers\"])"
   ],
   "outputs": []
  },
  {
   "cell_type": "code",
   "execution_count": 19,
   "id": "00babce5-af90-4a97-a541-51eff495cd1c",
   "metadata": {},
   "source": [
    "fig, axes = plt.subplots(1,7, sharey=True, figsize= (20, 3), gridspec_kw = {\"wspace\": 0.1})\n",
    "\n",
    "for i, col in enumerate([\"params_n_clusters\", \"params_n_epochs\", \"params_latent_space\", \"params_divisor_units\",\n",
    "                         \"params_lambda_coeff\", \"params_num_layers\", \"params_features_per_component\"]):\n",
    "    ax = axes[i]\n",
    "    if col == \"params_lambda_coeff\":\n",
    "        optimization_results.plot.scatter(x= col, y= \"value\", s= 7, ax=ax, ylabel= \"Silhouette score\", xlabel= \"Lambda coefficient\",\n",
    "                                          logx= True, xticks= [0.001, 0.01, 0.1, 1], c= \"number\", colorbar= False, cmap = 'viridis')\n",
    "    elif col == \"params_features_per_component\":\n",
    "        optimization_results.plot.scatter(x= col, y= \"value\", s= 7, ax=ax, ylabel= \"Silhouette score\", xlabel= \"Features per component\",\n",
    "                                          xticks= [1,4,7,10], c= \"number\", colorbar= True, cmap = 'viridis')\n",
    "        ax.collections[-1].colorbar.set_label(\"Trial\")\n",
    "        # ax.set_cmap('viridis')\n",
    "    elif col == \"params_n_clusters\":\n",
    "        optimization_results.plot.scatter(x= col, y= \"value\", s= 7, ax=ax, ylabel= \"Silhouette score\", xlabel= \"Number of clusters\",\n",
    "                                          xticks= list(range(2,7)), c= \"number\", colorbar= False, cmap = 'viridis')\n",
    "    elif col == \"params_n_epochs\":\n",
    "        optimization_results.plot.scatter(x= col, y= \"value\", s= 7, ax=ax, ylabel= \"Silhouette score\", xlabel= \"Number of epochs\",\n",
    "                                          xticks= [20,40,60,80,100], c= \"number\", colorbar= False, cmap = 'viridis')\n",
    "    elif col == \"params_num_layers\":\n",
    "        optimization_results.plot.scatter(x= col, y= \"value\", s= 7, ax=ax, ylabel= \"Silhouette score\", xlabel= \"Number of layers\",\n",
    "                                          xticks= [1,2], c= \"number\", colorbar= False, cmap = 'viridis')\n",
    "        ax.set_xlim(0.5,2.5)\n",
    "    elif col == \"params_latent_space\":\n",
    "        optimization_results.plot.scatter(x= col, y= \"value\", s= 7, ax=ax, ylabel= \"Silhouette score\", xlabel= \"Latent space\",\n",
    "                                          c= \"number\", colorbar= False, cmap = 'viridis')\n",
    "    elif col == \"params_divisor_units\":\n",
    "        optimization_results.plot.scatter(x= col, y= \"value\", s= 7, ax=ax, ylabel= \"Silhouette score\", xlabel= \"Inverse proportion of units\",\n",
    "                                          c= \"number\", colorbar= False, cmap = 'viridis')\n",
    "\n",
    "_ = ax.set_ylim(0,0.31)"
   ],
   "outputs": []
  },
  {
   "cell_type": "code",
   "execution_count": 504,
   "id": "9e4ec38c-d4c7-4ef8-9b65-ecaf2afeee85",
   "metadata": {},
   "source": [
    "fig, axes = plt.subplots(1, 4, figsize= (20, 4))\n",
    "ax, metric = axes[0], \"au\"\n",
    "metric_index = [\"training\", \"validation\", \"testing\"]\n",
    "metric_result = pd.DataFrame(optimization_results.iloc[0][[f\"user_attrs_train_{metric}_loss_list\", f\"user_attrs_val_{metric}_loss_list\",\n",
    "                                           f\"user_attrs_test_{metric}_loss_list\"]].apply(eval).to_list(), index= metric_index).T\n",
    "metric_result.boxplot(grid=False, showmeans= True, ax= ax)\n",
    "bottom, top = ax.get_ylim()\n",
    "y_range = top - bottom\n",
    "bar_height = (y_range * 0.07 * 3) + top\n",
    "bar_tips = bar_height - (y_range * 0.02)\n",
    "text_height = bar_height + (y_range * 0.01)\n",
    "for idx,met in enumerate(metric_index[:2]):\n",
    "    pv = wilcoxon(metric_result[met], metric_result[metric_result.columns[idx + 1]]).pvalue\n",
    "    ax.plot([idx+1, idx+1, idx+2, idx+2], [bar_tips, bar_height, bar_height, bar_tips], lw=1, c='k')\n",
    "    ax.text((idx + idx + 3) * 0.5, text_height, 'p={:.3g}'.format(pv), ha='center', c='k')\n",
    "ax.set_ylim(0, 1)\n",
    "ax.axhline(optimization_results[f\"user_attrs_test_{metric}_loss\"].max(), c= \"r\", linestyle= '--')\n",
    "ax.set_ylabel('MAE')\n",
    "\n",
    "ax, metric = axes[1], \"dist\"\n",
    "metric_result = pd.DataFrame(optimization_results.iloc[0][[f\"user_attrs_train_{metric}_loss_list\", f\"user_attrs_val_{metric}_loss_list\",\n",
    "                                           f\"user_attrs_test_{metric}_loss_list\"]].apply(eval).to_list(), index= metric_index).T\n",
    "metric_result.boxplot(grid=False, showmeans= True, ax= ax)\n",
    "bottom, top = ax.get_ylim()\n",
    "y_range = top - bottom\n",
    "bar_height = (y_range * 0.07 * 3) + top\n",
    "bar_tips = bar_height - (y_range * 0.02)\n",
    "text_height = bar_height + (y_range * 0.01)\n",
    "for idx,met in enumerate(metric_index[:2]):\n",
    "    pv = wilcoxon(metric_result[met], metric_result[metric_result.columns[idx + 1]]).pvalue\n",
    "    ax.plot([idx+1, idx+1, idx+2, idx+2], [bar_tips, bar_height, bar_height, bar_tips], lw=1, c='k')\n",
    "    ax.text((idx + idx + 3) * 0.5, text_height, 'p={:.3g}'.format(pv), ha='center', c='k')\n",
    "ax.axhline(optimization_results[optimization_results[\"params_n_clusters\"] == 2][f\"user_attrs_test_{metric}_loss\"].mean(), c= \"r\", linestyle= '--')\n",
    "ax.set_ylabel('Inertia')\n",
    "\n",
    "ax, metric = axes[2], \"total\"\n",
    "metric_result = pd.DataFrame(optimization_results.iloc[0][[f\"user_attrs_train_{metric}_loss_list\", f\"user_attrs_val_{metric}_loss_list\",\n",
    "                                           f\"user_attrs_test_{metric}_loss_list\"]].apply(eval).to_list(), index= metric_index).T\n",
    "metric_result.boxplot(grid=False, showmeans= True, ax= ax)\n",
    "bottom, top = ax.get_ylim()\n",
    "y_range = top - bottom\n",
    "bar_height = (y_range * 0.07 * 3) + top - 1\n",
    "bar_tips = bar_height - (y_range * 0.02)\n",
    "text_height = bar_height + (y_range * 0.01)\n",
    "for idx,met in enumerate(metric_index[:2]):\n",
    "    pv = wilcoxon(metric_result[met], metric_result[metric_result.columns[idx + 1]]).pvalue\n",
    "    ax.plot([idx+1, idx+1, idx+2, idx+2], [bar_tips, bar_height, bar_height, bar_tips], lw=1, c='k')\n",
    "    ax.text((idx + idx + 3) * 0.5, text_height, 'p={:.3g}'.format(pv), ha='center', c='k')\n",
    "ax.axhline(optimization_results[optimization_results[\"params_lambda_coeff\"].between(0.012, 0.016)][f\"user_attrs_test_{metric}_loss\"].max(), c= \"r\", linestyle= '--')\n",
    "ax.set_ylabel('Joint loss function')\n",
    "\n",
    "\n",
    "ax, metric = axes[3], \"silhscore\"\n",
    "metric_result = pd.DataFrame(optimization_results.iloc[0][[f\"user_attrs_train_{metric}_list\", f\"user_attrs_val_{metric}_list\",\n",
    "                                           f\"user_attrs_test_{metric}_list\"]].apply(eval).to_list(), index= metric_index).T\n",
    "metric_result.boxplot(grid=False, showmeans= True, ax= ax)\n",
    "bottom, top = ax.get_ylim()\n",
    "y_range = top - bottom\n",
    "bar_height = (y_range * 0.07 * 3) + top\n",
    "bar_tips = bar_height - (y_range * 0.02)\n",
    "text_height = bar_height + (y_range * 0.01)\n",
    "for idx,met in enumerate(metric_index[:2]):\n",
    "    pv = wilcoxon(metric_result[met], metric_result[metric_result.columns[idx + 1]]).pvalue\n",
    "    ax.plot([idx+1, idx+1, idx+2, idx+2], [bar_tips, bar_height, bar_height, bar_tips], lw=1, c='k')\n",
    "    ax.text((idx + idx + 3) * 0.5, text_height, 'p={:.3g}'.format(pv), ha='center', c='k')\n",
    "ax.set_ylabel('Silhouette score')\n",
    "ax.set_ylim(0, 1)\n",
    "_ = ax.axhline(optimization_results[f\"user_attrs_test_{metric}\"].mean(), c= \"r\", linestyle= '--')"
   ],
   "outputs": []
  },
  {
   "cell_type": "code",
   "execution_count": 10,
   "id": "414275d8-94fe-4565-9c73-d719dd67129b",
   "metadata": {},
   "source": [
    "# transformed_Xs = transform_full_dataset(Xs=Xs, fit_pipelines = True, results_folder = settings.results_path, \n",
    "#                                         features_per_component = optimization_study.best_params[\"features_per_component\"],\n",
    "#                                         optimization_folder = settings.optimization_path)\n",
    "transformed_Xs = transform_full_dataset(Xs=Xs, fit_pipelines = False, results_folder = settings.results_path)\n",
    "for transformed_X in transformed_Xs:\n",
    "    print(\"transformed_X.shape\", transformed_X.shape)\n",
    "    display(transformed_X.head())"
   ],
   "outputs": []
  },
  {
   "cell_type": "code",
   "execution_count": 11,
   "id": "97ffb35d-5500-4a7b-83f1-0788b0eabb37",
   "metadata": {
    "scrolled": true
   },
   "source": [
    "batch_size = int(best_trial[\"user_attrs_batch_size\"])\n",
    "full_data = MultiViewDataset(Xs=transformed_Xs)\n",
    "full_dataloader = DataLoader(dataset=full_data, batch_size=batch_size, shuffle=True)\n",
    "with isolate_rng():\n",
    "    total_results = Optimization().training(n_clusters = optimization_study.best_params[\"n_clusters\"], latent_space=optimization_study.best_params[\"latent_space\"],\n",
    "                                            in_channels_list = eval(best_trial[\"user_attrs_num_features\"]),\n",
    "                                            hidden_channels_list = [view_hidden[1:] for view_hidden in eval(best_trial[\"user_attrs_num_units\"])], \n",
    "                                            train_dataloader = full_dataloader, val_dataloader = full_dataloader, test_dataloader = full_dataloader,\n",
    "                                            n_epochs = optimization_study.best_params[\"n_epochs\"],\n",
    "                                            log_every_n_steps = np.ceil(len(full_data) / batch_size).astype(int),\n",
    "                                            lambda_coeff = optimization_study.best_params[\"lambda_coeff\"])"
   ],
   "outputs": []
  },
  {
   "cell_type": "code",
   "execution_count": 12,
   "id": "3563684b-6c23-4034-a7ce-e641917e48b8",
   "metadata": {},
   "source": [
    "model = total_results[\"model\"]\n",
    "model_path = os.path.join(\"outputs\", \"models\", \"model_state_dict.pt\")\n",
    "torch.save(model.state_dict(), model_path)\n",
    "model_path = os.path.join(\"outputs\", \"models\", \"model.pt\")\n",
    "torch.save(model, model_path)\n",
    "model = model.eval()"
   ],
   "outputs": []
  },
  {
   "cell_type": "code",
   "execution_count": 13,
   "id": "b456403a-709d-4cb1-8800-d04fa553b0ef",
   "metadata": {},
   "source": [
    "full_data = MultiViewDataset(Xs=[X_.loc[clinical_data.index] for X_ in transformed_Xs])\n",
    "full_dataloader = DataLoader(dataset=full_data, batch_size=batch_size, shuffle=False)\n",
    "with torch.no_grad():\n",
    "    z_full = torch.vstack([model.autoencoder.encode(batch) for batch in full_dataloader])\n",
    "    clusters = model.predict_cluster_from_embedding(z_full).detach().cpu().numpy()\n",
    "z_full = pd.DataFrame(z_full)\n",
    "clinical_data[\"clusters\"] = clusters\n",
    "ax = clinical_data[\"clusters\"].value_counts().plot(kind=\"bar\", title= \"Count of samples in clusters\", x= \"clusters\", ylabel= \"Number of samples\")\n",
    "for container in ax.containers:\n",
    "    ax.bar_label(container)"
   ],
   "outputs": []
  },
  {
   "cell_type": "code",
   "execution_count": 344,
   "id": "6b869f0f-4aa7-4db5-a05c-5e52825504c2",
   "metadata": {},
   "source": [
    "clustering_statistical_table = pd.DataFrame([], columns= [\"Deep clustering\", \"K-Means\", \"HC\"], index= [\"Overall Survival\", \"Diagnosis age\", \"AJCC tumor stage\",\n",
    "                                                                                                       \"AJCC metastasis stage\", \"AJCC neoplasm histologic grade\", \"Sex\"])\n",
    "clustering_statistical_table"
   ],
   "outputs": []
  },
  {
   "cell_type": "code",
   "execution_count": 384,
   "id": "29767fcf-5e6d-4d29-9692-87ed01b95949",
   "metadata": {},
   "source": [
    "logrank_test = multivariate_logrank_test(event_durations= clinical_data[\"Overall Survival (Months)\"], groups= clinical_data[\"clusters\"])\n",
    "logrank_test"
   ],
   "outputs": []
  },
  {
   "cell_type": "code",
   "execution_count": 480,
   "id": "505a0d99-a366-4c06-aaee-8bae1d8852c2",
   "metadata": {},
   "source": [
    "ax = plt.subplot(111)\n",
    "ax.text(0, 0, f\"p= {round(logrank_test.p_value, 3)}\")\n",
    "clustering_statistical_table.loc[\"Overall Survival\", \"Deep clustering\"] = logrank_test.p_value\n",
    "kmfs = []\n",
    "colors = ['y', 'm']\n",
    "for cluster in sorted(clinical_data[\"clusters\"].unique()):\n",
    "    duration = clinical_data[\"Overall Survival (Months)\"][clinical_data[\"clusters\"] == cluster]\n",
    "    kmf = KaplanMeierFitter().fit(duration, label = str(cluster))\n",
    "    kmfs.append(kmf)\n",
    "    ax = kmf.plot(ax=ax)\n",
    "\n",
    "add_at_risk_counts(*kmfs, ax=ax)\n",
    "ax.set_ylabel(\"Survival probability\")\n",
    "ax.set_xlabel(\"Timeline (months)\")\n",
    "for i,cl in enumerate(ax.legend().get_texts()):\n",
    "    cl.set_text(f'Cluster {i}')\n",
    "plt.tight_layout()"
   ],
   "outputs": []
  },
  {
   "cell_type": "code",
   "execution_count": 271,
   "id": "a5c79112-1cd1-4868-9d27-ae300c37c23f",
   "metadata": {},
   "source": [
    "cph = CoxPHFitter()\n",
    "cph.fit(clinical_data[['Overall Survival (Months)', \"clusters\"]].replace({\"clusters\": 0}, 2).replace({\"clusters\": 1}, 0).replace({\"clusters\": 2}, 1), duration_col = 'Overall Survival (Months)').print_summary()\n",
    "_ = cph.plot()"
   ],
   "outputs": []
  },
  {
   "cell_type": "code",
   "execution_count": 352,
   "id": "c7de6ac0-9637-4003-bf8e-2f952310b511",
   "metadata": {},
   "source": [
    "clinical_label = \"American Joint Committee on Cancer Tumor Stage Code\"\n",
    "clinical_parameter = clinical_data[clinical_label].str[-1].astype(float).dropna().astype(int)\n",
    "clinical_label = \"AJN Tumor stage\"\n",
    "clinical_parameter = clinical_parameter.rename(clinical_label)\n",
    "fig, axes = plt.subplots(1, 2, figsize= (12, 4))\n",
    "crosstab = pd.crosstab(clinical_parameter, clinical_data['clusters'])\n",
    "sns.heatmap(crosstab * 100 / crosstab.sum(0), annot=True, fmt=\".1f\", ax= axes[0])\n",
    "pval = chi2_contingency(pd.crosstab(clinical_parameter, clinical_data['clusters'])).pvalue\n",
    "clustering_statistical_table.loc[\"AJCC tumor stage\", \"Deep clustering\"] = pval\n",
    "axes[0].set_title(f\"p-value= {round(pval, 3)}\", fontsize= 10)\n",
    "clinical_parameter = clinical_parameter.to_frame()\n",
    "clinical_parameter[\"clusters\"] = clinical_data['clusters']\n",
    "sns.countplot(data= clinical_parameter, x= clinical_label, hue= \"clusters\", ax= axes[1])\n",
    "for container in axes[1].containers:\n",
    "    axes[1].bar_label(container)"
   ],
   "outputs": []
  },
  {
   "cell_type": "code",
   "execution_count": 353,
   "id": "91a1d60d-f8d5-4347-98ab-fd0080841ceb",
   "metadata": {},
   "source": [
    "clinical_label = \"Neoplasm Histologic Grade\"\n",
    "clinical_parameter = clinical_data[clinical_label].str[-1].astype(float).dropna().astype(int)\n",
    "fig, axes = plt.subplots(1, 2, figsize= (12, 4))\n",
    "crosstab = pd.crosstab(clinical_parameter, clinical_data['clusters'])\n",
    "sns.heatmap(crosstab * 100 / crosstab.sum(0), annot=True, fmt=\".1f\", ax= axes[0])\n",
    "pval = chi2_contingency(pd.crosstab(clinical_parameter, clinical_data['clusters'])).pvalue\n",
    "clustering_statistical_table.loc[\"AJCC neoplasm histologic grade\", \"Deep clustering\"] = pval\n",
    "axes[0].set_title(f\"p-value= {round(pval, 3)}\", fontsize= 10)\n",
    "clinical_parameter = clinical_parameter.to_frame()\n",
    "clinical_parameter[\"clusters\"] = clinical_data['clusters']\n",
    "sns.countplot(data= clinical_parameter, x= clinical_label, hue= \"clusters\", ax= axes[1])\n",
    "for container in axes[1].containers:\n",
    "    axes[1].bar_label(container)"
   ],
   "outputs": []
  },
  {
   "cell_type": "code",
   "execution_count": 356,
   "id": "b7a90716-2dc9-49b2-b98d-1e01fde0ffc6",
   "metadata": {},
   "source": [
    "clinical_label = \"Sex\"\n",
    "clinical_parameter = clinical_data[clinical_label]\n",
    "crosstab = pd.crosstab(clinical_parameter, clinical_data['clusters'])\n",
    "fig, axes = plt.subplots(1, 2, figsize= (12, 4))\n",
    "crosstab = pd.crosstab(clinical_parameter, clinical_data['clusters'])\n",
    "sns.heatmap(crosstab * 100 / crosstab.sum(0), annot=True, fmt=\".1f\", ax= axes[0])\n",
    "clinical_parameter = pd.get_dummies(clinical_data[clinical_label], drop_first=True).astype(int).squeeze()\n",
    "pval = chi2_contingency(pd.crosstab(clinical_parameter, clinical_data['clusters'])).pvalue\n",
    "clustering_statistical_table.loc[\"Sex\", \"Deep clustering\"] = pval\n",
    "axes[0].set_title(f\"p-value= {round(pval, 3)}\", fontsize= 10)\n",
    "clinical_parameter = clinical_parameter.to_frame()\n",
    "clinical_parameter[\"clusters\"] = clinical_data['clusters']\n",
    "sns.countplot(data= clinical_data, x= clinical_label, hue= \"clusters\", ax= axes[1])\n",
    "for container in axes[1].containers:\n",
    "    axes[1].bar_label(container)"
   ],
   "outputs": []
  },
  {
   "cell_type": "code",
   "execution_count": 357,
   "id": "ea42ba7c-6218-4860-b8b3-5c81ec7ba876",
   "metadata": {},
   "source": [
    "clinical_label = \"American Joint Committee on Cancer Metastasis Stage Code\"\n",
    "clinical_parameter = clinical_data[clinical_label].str[-1]\n",
    "clinical_parameter = clinical_parameter[clinical_parameter != \"X\"]\n",
    "clinical_parameter = clinical_parameter.astype(float).dropna().astype(int)\n",
    "clinical_label = \"AJN Cancer Metastasis\"\n",
    "clinical_parameter = clinical_parameter.rename(clinical_label)\n",
    "fig, axes = plt.subplots(1, 2, figsize= (12, 4))\n",
    "crosstab = pd.crosstab(clinical_parameter, clinical_data['clusters'])\n",
    "sns.heatmap(crosstab * 100 / crosstab.sum(0), annot=True, fmt=\".1f\", ax= axes[0])\n",
    "pval = chi2_contingency(pd.crosstab(clinical_parameter, clinical_data['clusters'])).pvalue\n",
    "clustering_statistical_table.loc[\"AJCC metastasis stage\", \"Deep clustering\"] = pval\n",
    "axes[0].set_title(f\"p-value= {round(pval, 3)}\", fontsize= 10)\n",
    "clinical_parameter = clinical_parameter.to_frame()\n",
    "clinical_parameter[\"clusters\"] = clinical_data['clusters']\n",
    "ax= sns.countplot(data= clinical_parameter, x= clinical_label, hue= \"clusters\")\n",
    "ax.set_title(f\"p-value= {pval}\", fontsize= 10)\n",
    "for container in ax.containers:\n",
    "    ax.bar_label(container)"
   ],
   "outputs": []
  },
  {
   "cell_type": "code",
   "execution_count": 358,
   "id": "55a35318-fe82-42c1-b606-607172e31400",
   "metadata": {},
   "source": [
    "clinical_label = \"Diagnosis Age\"\n",
    "clinical_parameter = clinical_data[clinical_label].dropna()\n",
    "pval = kruskal(*[clinical_parameter[clinical_data['clusters'] == cl] for cl in clinical_data['clusters'].unique()]).pvalue\n",
    "clustering_statistical_table.loc[\"Diagnosis age\", \"Deep clustering\"] = pval\n",
    "clinical_parameter = clinical_parameter.to_frame()\n",
    "clinical_parameter[\"clusters\"] = clinical_data['clusters']\n",
    "ax = clinical_parameter.boxplot(column= clinical_label, by= \"clusters\", grid=False)\n",
    "_ = ax.text(1.3, 50, f\"p= {round(pval, 3)}\")"
   ],
   "outputs": []
  },
  {
   "cell_type": "code",
   "execution_count": 265,
   "id": "f394cc48-0956-4f38-b87f-a80a61865cce",
   "metadata": {},
   "source": [
    "fig, axes = plt.subplots(1, 4, figsize= (25, 4))\n",
    "\n",
    "ax = sns.violinplot(data= pd.DataFrame([methylation_data.loc[clinical_data[clinical_data[\"clusters\"] == cl].index, transformed_Xs[1].columns].values.flatten() for cl in sorted(clinical_data[\"clusters\"].unique())],\n",
    "                                   index = [cl for cl in sorted(clinical_data[\"clusters\"].unique())]).T,\n",
    "                    orient= \"h\", ax = axes[0])\n",
    "ax.set_title(\"All methylation values by cluster\")\n",
    "\n",
    "ax = sns.violinplot(data= pd.DataFrame([methylation_data.loc[clinical_data[clinical_data[\"clusters\"] == cl].index, transformed_Xs[1].columns].mean(0) for cl in sorted(clinical_data[\"clusters\"].unique())],\n",
    "                                   index = [cl for cl in sorted(clinical_data[\"clusters\"].unique())]).T,\n",
    "                    orient= \"h\", ax = axes[1])\n",
    "ax.set_title(\"Mean methylation values by cluster\")\n",
    "\n",
    "ax = sns.violinplot(data= pd.DataFrame([rnaseq_data.loc[clinical_data[clinical_data[\"clusters\"] == cl].index, transformed_Xs[0].columns].apply(lambda x: np.log2(1 + x)).values.flatten() for cl in sorted(clinical_data[\"clusters\"].unique())],\n",
    "                                   index = [cl for cl in sorted(clinical_data[\"clusters\"].unique())]).T,\n",
    "                    orient= \"h\", ax = axes[2])\n",
    "ax.set_title(\"All RNA-seq values by cluster\")\n",
    "\n",
    "ax = sns.violinplot(data= pd.DataFrame([rnaseq_data.loc[clinical_data[clinical_data[\"clusters\"] == cl].index, transformed_Xs[0].columns].apply(lambda x: np.log2(1 + x)).mean(0) for cl in sorted(clinical_data[\"clusters\"].unique())],\n",
    "                                   index = [cl for cl in sorted(clinical_data[\"clusters\"].unique())]).T,\n",
    "                    orient= \"h\", ax = axes[3])\n",
    "= ax.set_title(\"Mean RNA-seq values by cluster\")"
   ],
   "outputs": []
  },
  {
   "cell_type": "code",
   "execution_count": 22,
   "id": "97689e79-e76f-422c-9e75-c914d614aaab",
   "metadata": {},
   "source": [
    "transformed_X = pd.concat(transformed_Xs, axis = 1)\n",
    "print(\"transformed_X.shape\", transformed_X.shape)\n",
    "transformed_X.head()"
   ],
   "outputs": []
  },
  {
   "cell_type": "code",
   "execution_count": 250,
   "id": "afb3d39e-b65f-411d-8d81-a98bcaf91759",
   "metadata": {},
   "source": [
    "from sklearn.cluster import AgglomerativeClustering\n",
    "\n",
    "preds_hc = AgglomerativeClustering(n_clusters= 2).fit_predict(transformed_X)\n",
    "clinical_data[\"preds_hc\"] = preds_hc\n",
    "ax = clinical_data[\"preds_hc\"].value_counts().plot(kind=\"bar\", title= \"Count of samples in clusters\", x= \"preds_hc\", ylabel= \"Number of samples\")\n",
    "for container in ax.containers:\n",
    "    ax.bar_label(container)"
   ],
   "outputs": []
  },
  {
   "cell_type": "code",
   "execution_count": 359,
   "id": "341954ee-3cfd-47c9-aa6b-e64b8f219fad",
   "metadata": {},
   "source": [
    "logrank_test = multivariate_logrank_test(event_durations= clinical_data[\"Overall Survival (Months)\"], groups= clinical_data[\"preds_hc\"])\n",
    "logrank_test"
   ],
   "outputs": []
  },
  {
   "cell_type": "code",
   "execution_count": 360,
   "id": "9d51e5c0-c083-4f7e-a7fc-fd3eae05b805",
   "metadata": {},
   "source": [
    "ax = plt.subplot(111)\n",
    "ax.set_title(\"Survival plot\")\n",
    "ax.text(0, 0, f\"p-value= {round(logrank_test.p_value, 3)}\")\n",
    "clustering_statistical_table.loc[\"Overall Survival\", \"HC\"] = logrank_test.p_value\n",
    "kmfs = []\n",
    "for cluster in sorted(clinical_data[\"preds_hc\"].unique()):\n",
    "    duration = clinical_data[\"Overall Survival (Months)\"][clinical_data[\"preds_hc\"] == cluster]\n",
    "    kmf = KaplanMeierFitter().fit(duration, label = str(cluster))\n",
    "    kmfs.append(kmf)\n",
    "    ax = kmf.plot(ax=ax)\n",
    "\n",
    "add_at_risk_counts(*kmfs, ax=ax)\n",
    "plt.tight_layout()"
   ],
   "outputs": []
  },
  {
   "cell_type": "code",
   "execution_count": 361,
   "id": "64ff4bef-03a6-4695-b703-451306aba300",
   "metadata": {},
   "source": [
    "clinical_label = \"American Joint Committee on Cancer Tumor Stage Code\"\n",
    "clinical_parameter = clinical_data[clinical_label].str[-1].astype(float).dropna().astype(int)\n",
    "clinical_label = \"AJN Tumor stage\"\n",
    "clinical_parameter = clinical_parameter.rename(clinical_label)\n",
    "fig, axes = plt.subplots(1, 2, figsize= (12, 4))\n",
    "crosstab = pd.crosstab(clinical_parameter, clinical_data['preds_hc'])\n",
    "sns.heatmap(crosstab * 100 / crosstab.sum(0), annot=True, fmt=\".1f\", ax= axes[0])\n",
    "pval = chi2_contingency(pd.crosstab(clinical_parameter, clinical_data['preds_hc'])).pvalue\n",
    "clustering_statistical_table.loc[\"AJCC tumor stage\", \"HC\"] = pval\n",
    "axes[0].set_title(f\"p-value= {round(pval, 3)}\", fontsize= 10)\n",
    "clinical_parameter = clinical_parameter.to_frame()\n",
    "clinical_parameter[\"preds_hc\"] = clinical_data['preds_hc']\n",
    "sns.countplot(data= clinical_parameter, x= clinical_label, hue= \"preds_hc\", ax= axes[1])\n",
    "for container in axes[1].containers:\n",
    "    axes[1].bar_label(container)"
   ],
   "outputs": []
  },
  {
   "cell_type": "code",
   "execution_count": 362,
   "id": "0802fd10-1c0f-4274-90da-24593df99b9b",
   "metadata": {},
   "source": [
    "clinical_label = \"Neoplasm Histologic Grade\"\n",
    "clinical_parameter = clinical_data[clinical_label].str[-1].astype(float).dropna().astype(int)\n",
    "fig, axes = plt.subplots(1, 2, figsize= (12, 4))\n",
    "crosstab = pd.crosstab(clinical_parameter, clinical_data['preds_hc'])\n",
    "sns.heatmap(crosstab * 100 / crosstab.sum(0), annot=True, fmt=\".1f\", ax= axes[0])\n",
    "pval = chi2_contingency(pd.crosstab(clinical_parameter, clinical_data['preds_hc'])).pvalue\n",
    "clustering_statistical_table.loc[\"AJCC neoplasm histologic grade\", \"HC\"] = pval\n",
    "axes[0].set_title(f\"p-value= {round(pval, 3)}\", fontsize= 10)\n",
    "clinical_parameter = clinical_parameter.to_frame()\n",
    "clinical_parameter[\"preds_hc\"] = clinical_data['preds_hc']\n",
    "sns.countplot(data= clinical_parameter, x= clinical_label, hue= \"preds_hc\", ax= axes[1])\n",
    "for container in axes[1].containers:\n",
    "    axes[1].bar_label(container)"
   ],
   "outputs": []
  },
  {
   "cell_type": "code",
   "execution_count": 363,
   "id": "ac989d0a-8a84-4309-8489-7943895d212a",
   "metadata": {},
   "source": [
    "clinical_label = \"Sex\"\n",
    "clinical_parameter = clinical_data[clinical_label]\n",
    "crosstab = pd.crosstab(clinical_parameter, clinical_data['preds_hc'])\n",
    "fig, axes = plt.subplots(1, 2, figsize= (12, 4))\n",
    "crosstab = pd.crosstab(clinical_parameter, clinical_data['preds_hc'])\n",
    "sns.heatmap(crosstab * 100 / crosstab.sum(0), annot=True, fmt=\".1f\", ax= axes[0])\n",
    "clinical_parameter = pd.get_dummies(clinical_data[clinical_label], drop_first=True).astype(int).squeeze()\n",
    "pval = chi2_contingency(pd.crosstab(clinical_parameter, clinical_data['preds_hc'])).pvalue\n",
    "clustering_statistical_table.loc[\"Sex\", \"HC\"] = pval\n",
    "axes[0].set_title(f\"p-value= {round(pval, 3)}\", fontsize= 10)\n",
    "clinical_parameter = clinical_parameter.to_frame()\n",
    "clinical_parameter[\"preds_hc\"] = clinical_data['preds_hc']\n",
    "sns.countplot(data= clinical_data, x= clinical_label, hue= \"preds_hc\", ax= axes[1])\n",
    "for container in axes[1].containers:\n",
    "    axes[1].bar_label(container)"
   ],
   "outputs": []
  },
  {
   "cell_type": "code",
   "execution_count": 364,
   "id": "2366c54c-5421-483b-84db-6af4ac9ebdaa",
   "metadata": {},
   "source": [
    "clinical_label = \"American Joint Committee on Cancer Metastasis Stage Code\"\n",
    "clinical_parameter = clinical_data[clinical_label].str[-1]\n",
    "clinical_parameter = clinical_parameter[clinical_parameter != \"X\"]\n",
    "clinical_parameter = clinical_parameter.astype(float).dropna().astype(int)\n",
    "clinical_label = \"AJN Cancer Metastasis\"\n",
    "clinical_parameter = clinical_parameter.rename(clinical_label)\n",
    "fig, axes = plt.subplots(1, 2, figsize= (12, 4))\n",
    "crosstab = pd.crosstab(clinical_parameter, clinical_data['preds_hc'])\n",
    "sns.heatmap(crosstab * 100 / crosstab.sum(0), annot=True, fmt=\".1f\", ax= axes[0])\n",
    "pval = chi2_contingency(pd.crosstab(clinical_parameter, clinical_data['preds_hc'])).pvalue\n",
    "clustering_statistical_table.loc[\"AJCC metastasis stage\", \"HC\"] = pval\n",
    "axes[0].set_title(f\"p-value= {round(pval, 3)}\", fontsize= 10)\n",
    "clinical_parameter = clinical_parameter.to_frame()\n",
    "clinical_parameter[\"preds_hc\"] = clinical_data['preds_hc']\n",
    "ax= sns.countplot(data= clinical_parameter, x= clinical_label, hue= \"preds_hc\")\n",
    "ax.set_title(f\"p-value= {pval}\", fontsize= 10)\n",
    "for container in ax.containers:\n",
    "    ax.bar_label(container)"
   ],
   "outputs": []
  },
  {
   "cell_type": "code",
   "execution_count": 367,
   "id": "c8a0fe7d-b433-44f4-ba7f-178ead9e49cf",
   "metadata": {},
   "source": [
    "clinical_label = \"Diagnosis Age\"\n",
    "clinical_parameter = clinical_data[clinical_label].dropna()\n",
    "pval = kruskal(*[clinical_parameter[clinical_data['preds_hc'] == cl] for cl in clinical_data['preds_hc'].unique()]).pvalue\n",
    "clustering_statistical_table.loc[\"Diagnosis age\", \"HC\"] = pval\n",
    "clinical_parameter = clinical_parameter.to_frame()\n",
    "clinical_parameter[\"preds_hc\"] = clinical_data['preds_hc']\n",
    "ax = clinical_parameter.boxplot(column= clinical_label, by= \"preds_hc\", grid=False)\n",
    "_ = ax.text(1.3, 50, f\"p-value= {round(pval, 3)}\")"
   ],
   "outputs": []
  },
  {
   "cell_type": "code",
   "execution_count": 272,
   "id": "c00e7f29-32cc-4a3d-8a7c-e5a20e0878b4",
   "metadata": {},
   "source": [
    "from sklearn.cluster import KMeans\n",
    "\n",
    "preds_kmeans = KMeans(n_clusters= 2, random_state= 42).fit_predict(transformed_X)\n",
    "clinical_data[\"preds_kmeans\"] = preds_kmeans\n",
    "ax = clinical_data[\"preds_kmeans\"].value_counts().plot(kind=\"bar\", title= \"Count of samples in clusters\", x= \"preds_kmeans\", ylabel= \"Number of samples\")\n",
    "for container in ax.containers:\n",
    "    ax.bar_label(container)"
   ],
   "outputs": []
  },
  {
   "cell_type": "code",
   "execution_count": 373,
   "id": "90794c6f-16cf-4751-98b7-53b5cdd00cc4",
   "metadata": {},
   "source": [
    "logrank_test = multivariate_logrank_test(event_durations= clinical_data[\"Overall Survival (Months)\"], groups= clinical_data[\"preds_kmeans\"])\n",
    "logrank_test"
   ],
   "outputs": []
  },
  {
   "cell_type": "code",
   "execution_count": 374,
   "id": "35796fb5-1482-4821-ad02-857d8e250a5d",
   "metadata": {},
   "source": [
    "ax = plt.subplot(111)\n",
    "ax.set_title(\"Survival plot\")\n",
    "ax.text(0, 0, f\"p-value= {round(logrank_test.p_value, 3)}\")\n",
    "clustering_statistical_table.loc[\"Overall Survival\", \"K-Means\"] = logrank_test.p_value\n",
    "kmfs = []\n",
    "for cluster in sorted(clinical_data[\"preds_kmeans\"].unique()):\n",
    "    duration = clinical_data[\"Overall Survival (Months)\"][clinical_data[\"preds_kmeans\"] == cluster]\n",
    "    kmf = KaplanMeierFitter().fit(duration, label = str(cluster))\n",
    "    kmfs.append(kmf)\n",
    "    ax = kmf.plot(ax=ax)\n",
    "\n",
    "add_at_risk_counts(*kmfs, ax=ax)\n",
    "plt.tight_layout()"
   ],
   "outputs": []
  },
  {
   "cell_type": "code",
   "execution_count": 375,
   "id": "0a20d9bd-965f-406c-96c9-dcbeee4ef9b6",
   "metadata": {},
   "source": [
    "clinical_label = \"American Joint Committee on Cancer Tumor Stage Code\"\n",
    "clinical_parameter = clinical_data[clinical_label].str[-1].astype(float).dropna().astype(int)\n",
    "clinical_label = \"AJN Tumor stage\"\n",
    "clinical_parameter = clinical_parameter.rename(clinical_label)\n",
    "fig, axes = plt.subplots(1, 2, figsize= (12, 4))\n",
    "crosstab = pd.crosstab(clinical_parameter, clinical_data['preds_kmeans'])\n",
    "sns.heatmap(crosstab * 100 / crosstab.sum(0), annot=True, fmt=\".1f\", ax= axes[0])\n",
    "pval = chi2_contingency(pd.crosstab(clinical_parameter, clinical_data['preds_kmeans'])).pvalue\n",
    "clustering_statistical_table.loc[\"AJCC tumor stage\", \"K-Means\"] = pval\n",
    "axes[0].set_title(f\"p-value= {round(pval, 3)}\", fontsize= 10)\n",
    "clinical_parameter = clinical_parameter.to_frame()\n",
    "clinical_parameter[\"preds_kmeans\"] = clinical_data['preds_kmeans']\n",
    "sns.countplot(data= clinical_parameter, x= clinical_label, hue= \"preds_kmeans\", ax= axes[1])\n",
    "for container in axes[1].containers:\n",
    "    axes[1].bar_label(container)"
   ],
   "outputs": []
  },
  {
   "cell_type": "code",
   "execution_count": 376,
   "id": "17b8285f-3de2-4226-b7f3-058286eee9b0",
   "metadata": {},
   "source": [
    "clinical_label = \"Neoplasm Histologic Grade\"\n",
    "clinical_parameter = clinical_data[clinical_label].str[-1].astype(float).dropna().astype(int)\n",
    "fig, axes = plt.subplots(1, 2, figsize= (12, 4))\n",
    "crosstab = pd.crosstab(clinical_parameter, clinical_data['preds_kmeans'])\n",
    "sns.heatmap(crosstab * 100 / crosstab.sum(0), annot=True, fmt=\".1f\", ax= axes[0])\n",
    "pval = chi2_contingency(pd.crosstab(clinical_parameter, clinical_data['preds_kmeans'])).pvalue\n",
    "clustering_statistical_table.loc[\"AJCC neoplasm histologic grade\", \"K-Means\"] = pval\n",
    "axes[0].set_title(f\"p-value= {round(pval, 3)}\", fontsize= 10)\n",
    "clinical_parameter = clinical_parameter.to_frame()\n",
    "clinical_parameter[\"preds_kmeans\"] = clinical_data['preds_kmeans']\n",
    "sns.countplot(data= clinical_parameter, x= clinical_label, hue= \"preds_kmeans\", ax= axes[1])\n",
    "for container in axes[1].containers:\n",
    "    axes[1].bar_label(container)"
   ],
   "outputs": []
  },
  {
   "cell_type": "code",
   "execution_count": 377,
   "id": "369e0bde-85d5-46a0-8a42-579c35aa13ab",
   "metadata": {},
   "source": [
    "clinical_label = \"Sex\"\n",
    "clinical_parameter = clinical_data[clinical_label]\n",
    "crosstab = pd.crosstab(clinical_parameter, clinical_data['preds_kmeans'])\n",
    "fig, axes = plt.subplots(1, 2, figsize= (12, 4))\n",
    "crosstab = pd.crosstab(clinical_parameter, clinical_data['preds_kmeans'])\n",
    "sns.heatmap(crosstab * 100 / crosstab.sum(0), annot=True, fmt=\".1f\", ax= axes[0])\n",
    "clinical_parameter = pd.get_dummies(clinical_data[clinical_label], drop_first=True).astype(int).squeeze()\n",
    "pval = chi2_contingency(pd.crosstab(clinical_parameter, clinical_data['preds_kmeans'])).pvalue\n",
    "clustering_statistical_table.loc[\"Sex\", \"K-Means\"] = pval\n",
    "axes[0].set_title(f\"p-value= {round(pval, 3)}\", fontsize= 10)\n",
    "clinical_parameter = clinical_parameter.to_frame()\n",
    "clinical_parameter[\"preds_kmeans\"] = clinical_data['preds_kmeans']\n",
    "sns.countplot(data= clinical_data, x= clinical_label, hue= \"preds_kmeans\", ax= axes[1])\n",
    "for container in axes[1].containers:\n",
    "    axes[1].bar_label(container)"
   ],
   "outputs": []
  },
  {
   "cell_type": "code",
   "execution_count": 378,
   "id": "e0b6cddb-065c-4a65-a780-456c1314ee19",
   "metadata": {},
   "source": [
    "clinical_label = \"American Joint Committee on Cancer Metastasis Stage Code\"\n",
    "clinical_parameter = clinical_data[clinical_label].str[-1]\n",
    "clinical_parameter = clinical_parameter[clinical_parameter != \"X\"]\n",
    "clinical_parameter = clinical_parameter.astype(float).dropna().astype(int)\n",
    "clinical_label = \"AJN Cancer Metastasis\"\n",
    "clinical_parameter = clinical_parameter.rename(clinical_label)\n",
    "fig, axes = plt.subplots(1, 2, figsize= (12, 4))\n",
    "crosstab = pd.crosstab(clinical_parameter, clinical_data['preds_kmeans'])\n",
    "sns.heatmap(crosstab * 100 / crosstab.sum(0), annot=True, fmt=\".1f\", ax= axes[0])\n",
    "pval = chi2_contingency(pd.crosstab(clinical_parameter, clinical_data['preds_kmeans'])).pvalue\n",
    "clustering_statistical_table.loc[\"AJCC metastasis stage\", \"K-Means\"] = pval\n",
    "axes[0].set_title(f\"p-value= {round(pval, 3)}\", fontsize= 10)\n",
    "clinical_parameter = clinical_parameter.to_frame()\n",
    "clinical_parameter[\"preds_kmeans\"] = clinical_data['preds_kmeans']\n",
    "ax= sns.countplot(data= clinical_parameter, x= clinical_label, hue= \"preds_kmeans\")\n",
    "ax.set_title(f\"p-value= {pval}\", fontsize= 10)\n",
    "for container in ax.containers:\n",
    "    ax.bar_label(container)"
   ],
   "outputs": []
  },
  {
   "cell_type": "code",
   "execution_count": 379,
   "id": "9c169257-faf4-4293-9222-dabdd9877cdd",
   "metadata": {},
   "source": [
    "clinical_label = \"Diagnosis Age\"\n",
    "clinical_parameter = clinical_data[clinical_label].dropna()\n",
    "pval = kruskal(*[clinical_parameter[clinical_data['preds_kmeans'] == cl] for cl in clinical_data['preds_kmeans'].unique()]).pvalue\n",
    "clustering_statistical_table.loc[\"Diagnosis age\", \"K-Means\"] = pval\n",
    "clinical_parameter = clinical_parameter.to_frame()\n",
    "clinical_parameter[\"preds_kmeans\"] = clinical_data['preds_kmeans']\n",
    "ax = clinical_parameter.boxplot(column= clinical_label, by= \"preds_kmeans\", grid=False)\n",
    "_ = ax.text(1.3, 50, f\"p-value= {round(pval, 3)}\")"
   ],
   "outputs": []
  },
  {
   "cell_type": "code",
   "execution_count": 383,
   "id": "a3b6742c-c3ed-4d13-b217-e466598b9216",
   "metadata": {},
   "source": [
    "print(clustering_statistical_table.to_latex(float_format=\"{:.3f}\".format))"
   ],
   "outputs": []
  },
  {
   "cell_type": "code",
   "execution_count": 23,
   "id": "8e8a88fe-b472-4747-8f7f-04b56db773ff",
   "metadata": {},
   "source": [
    "method = make_pipeline(StandardScaler(), PCA(n_components = 2, random_state = settings.RANDOM_STATE))\n",
    "plot_data = method.fit_transform(z_full)\n",
    "fig = px.scatter(x = plot_data[:, 0], y = plot_data[:, 1], color = clinical_data[\"clusters\"].astype(str))\n",
    "fig.show()"
   ],
   "outputs": []
  },
  {
   "cell_type": "code",
   "execution_count": 24,
   "id": "de1d3e91-048b-4867-8cee-cf44520a0205",
   "metadata": {},
   "source": [
    "method = make_pipeline(StandardScaler(), PCA(n_components = 2, random_state = settings.RANDOM_STATE))\n",
    "plot_data = method.fit_transform(z_full)\n",
    "fig = px.scatter(x = plot_data[:, 0], y = plot_data[:, 1], color = clinical_data[\"Overall Survival (Months)\"], color_continuous_scale=px.colors.sequential.Bluered)\n",
    "fig.show()"
   ],
   "outputs": []
  },
  {
   "cell_type": "code",
   "execution_count": 25,
   "id": "e8a5ac31-bb68-42f5-a826-c0217800dd37",
   "metadata": {},
   "source": [
    "method = make_pipeline(StandardScaler(), PCA(n_components = 3, random_state = settings.RANDOM_STATE))\n",
    "plot_data = method.fit_transform(z_full)\n",
    "fig = px.scatter_3d(x = plot_data[:, 0], y = plot_data[:, 1], z = plot_data[:, 2], color = clusters.astype(str))\n",
    "fig.show()"
   ],
   "outputs": []
  },
  {
   "cell_type": "code",
   "execution_count": 26,
   "id": "7a36d184-7b77-4404-b8a6-dacc2a584e5b",
   "metadata": {},
   "source": [
    "method = make_pipeline(StandardScaler(), PCA(n_components = 3, random_state = settings.RANDOM_STATE))\n",
    "plot_data = method.fit_transform(z_full)\n",
    "fig = px.scatter_3d(x = plot_data[:, 0], y = plot_data[:, 1], z = plot_data[:, 2], color = clinical_data[\"Overall Survival (Months)\"],\n",
    "                    color_continuous_scale=px.colors.sequential.Bluered)\n",
    "fig.show()"
   ],
   "outputs": []
  },
  {
   "cell_type": "code",
   "execution_count": 27,
   "id": "e30fe6c7-2a41-4a92-8ed3-cfe3423a4fd5",
   "metadata": {},
   "source": [
    "method = PCA(n_components = 2, random_state = settings.RANDOM_STATE)\n",
    "plot_data = method.fit_transform(transformed_X)\n",
    "fig = px.scatter(x = plot_data[:, 0], y = plot_data[:, 1], \n",
    "                 color = make_pipeline(StandardScaler(), KMeans(n_clusters=optimization_study.best_params[\"n_clusters\"], random_state = settings.RANDOM_STATE)).fit_predict(plot_data).astype(str))\n",
    "fig.show()"
   ],
   "outputs": []
  },
  {
   "cell_type": "code",
   "execution_count": 28,
   "id": "338d9575-2b03-463b-9675-10f4572ab642",
   "metadata": {},
   "source": [
    "method = PCA(n_components = 2, random_state = settings.RANDOM_STATE)\n",
    "plot_data = method.fit_transform(transformed_X)\n",
    "fig = px.scatter(x = plot_data[:, 0], y = plot_data[:, 1], color = clinical_data[\"Overall Survival (Months)\"], color_continuous_scale=px.colors.sequential.Bluered)\n",
    "fig.show()"
   ],
   "outputs": []
  },
  {
   "cell_type": "code",
   "execution_count": 29,
   "id": "0ec29e44-d4c2-4061-a065-fdfbdaa3c01d",
   "metadata": {},
   "source": [
    "method = TSNE(n_components = 2, random_state = settings.RANDOM_STATE)\n",
    "plot_data = method.fit_transform(transformed_X)\n",
    "fig = px.scatter(x = plot_data[:, 0], y = plot_data[:, 1],\n",
    "                 color = make_pipeline(StandardScaler(), KMeans(n_clusters=optimization_study.best_params[\"n_clusters\"], random_state = settings.RANDOM_STATE)).fit_predict(plot_data).astype(str))\n",
    "fig.show()"
   ],
   "outputs": []
  },
  {
   "cell_type": "code",
   "execution_count": 30,
   "id": "e10f1c09-ac00-407e-9089-b20373475606",
   "metadata": {},
   "source": [
    "method = TSNE(n_components = 2, random_state = settings.RANDOM_STATE)\n",
    "plot_data = method.fit_transform(transformed_X)\n",
    "fig = px.scatter(x = plot_data[:, 0], y = plot_data[:, 1], color = clinical_data[\"Overall Survival (Months)\"], color_continuous_scale=px.colors.sequential.Bluered)\n",
    "fig.show()"
   ],
   "outputs": []
  },
  {
   "cell_type": "code",
   "execution_count": 31,
   "id": "185ea7b8-087a-48fc-be6d-e00e27768775",
   "metadata": {},
   "source": [
    "method = UMAP(n_components = 2, random_state = settings.RANDOM_STATE)\n",
    "plot_data = method.fit_transform(transformed_X)\n",
    "fig = px.scatter(x = plot_data[:, 0], y = plot_data[:, 1],\n",
    "                 color = make_pipeline(StandardScaler(), KMeans(n_clusters=optimization_study.best_params[\"n_clusters\"], random_state = settings.RANDOM_STATE)).fit_predict(plot_data).astype(str))\n",
    "fig.show()"
   ],
   "outputs": []
  },
  {
   "cell_type": "code",
   "execution_count": 32,
   "id": "0493259e-9a86-4e96-8614-9f2d6a4ca256",
   "metadata": {},
   "source": [
    "method = UMAP(n_components = 2, random_state = settings.RANDOM_STATE)\n",
    "plot_data = method.fit_transform(transformed_X)\n",
    "fig = px.scatter(x = plot_data[:, 0], y = plot_data[:, 1], color = clinical_data[\"Overall Survival (Months)\"], color_continuous_scale=px.colors.sequential.Bluered)\n",
    "fig.show()"
   ],
   "outputs": []
  },
  {
   "cell_type": "code",
   "execution_count": 33,
   "id": "819a6b9c-c908-497f-986a-4a3636f64cc7",
   "metadata": {},
   "source": [
    "method = PCA(n_components = 3, random_state = settings.RANDOM_STATE)\n",
    "plot_data = method.fit_transform(transformed_X)\n",
    "fig = px.scatter_3d(x = plot_data[:, 0], y = plot_data[:, 1], z = plot_data[:, 2],\n",
    "                    color = make_pipeline(StandardScaler(), KMeans(n_clusters=optimization_study.best_params[\"n_clusters\"], random_state = settings.RANDOM_STATE)).fit_predict(plot_data).astype(str))\n",
    "fig.show()"
   ],
   "outputs": []
  },
  {
   "cell_type": "code",
   "execution_count": 34,
   "id": "37e34f06-9375-4f1e-8dd8-501d1e59c8f1",
   "metadata": {},
   "source": [
    "method = PCA(n_components = 3, random_state = settings.RANDOM_STATE)\n",
    "plot_data = method.fit_transform(transformed_X)\n",
    "fig = px.scatter_3d(x = plot_data[:, 0], y = plot_data[:, 1], z = plot_data[:, 2], color = clinical_data[\"Overall Survival (Months)\"], \n",
    "                    color_continuous_scale=px.colors.sequential.Bluered)\n",
    "fig.show()"
   ],
   "outputs": []
  },
  {
   "cell_type": "code",
   "execution_count": 35,
   "id": "b14f0ced-0864-4c05-9f04-053b109c19cd",
   "metadata": {},
   "source": [
    "method = TSNE(n_components = 3, random_state = settings.RANDOM_STATE)\n",
    "plot_data = method.fit_transform(transformed_X)\n",
    "fig = px.scatter_3d(x = plot_data[:, 0], y = plot_data[:, 1], z = plot_data[:, 2],\n",
    "                    color = make_pipeline(StandardScaler(), KMeans(n_clusters=optimization_study.best_params[\"n_clusters\"], random_state = settings.RANDOM_STATE)).fit_predict(plot_data).astype(str))\n",
    "fig.show()"
   ],
   "outputs": []
  },
  {
   "cell_type": "code",
   "execution_count": 36,
   "id": "34291c6b-1f6a-451d-8b98-6ad5de03d479",
   "metadata": {},
   "source": [
    "method = TSNE(n_components = 3, random_state = settings.RANDOM_STATE)\n",
    "plot_data = method.fit_transform(transformed_X)\n",
    "fig = px.scatter_3d(x = plot_data[:, 0], y = plot_data[:, 1], z = plot_data[:, 2], color = clinical_data[\"Overall Survival (Months)\"], \n",
    "                    color_continuous_scale=px.colors.sequential.Bluered)\n",
    "fig.show()"
   ],
   "outputs": []
  },
  {
   "cell_type": "code",
   "execution_count": 37,
   "id": "bddf02e3-7d6b-44d3-afb2-b49601bdc72f",
   "metadata": {},
   "source": [
    "method = UMAP(n_components = 3, random_state = settings.RANDOM_STATE)\n",
    "plot_data = method.fit_transform(transformed_X)\n",
    "fig = px.scatter_3d(x = plot_data[:, 0], y = plot_data[:, 1], z = plot_data[:, 2],\n",
    "                    color = make_pipeline(StandardScaler(), KMeans(n_clusters=optimization_study.best_params[\"n_clusters\"], random_state = settings.RANDOM_STATE)).fit_predict(plot_data).astype(str))\n",
    "fig.show()"
   ],
   "outputs": []
  },
  {
   "cell_type": "code",
   "execution_count": 38,
   "id": "2bea1a07-50c8-4b82-a5a9-416e7045d9b5",
   "metadata": {},
   "source": [
    "method = UMAP(n_components = 3, random_state = settings.RANDOM_STATE)\n",
    "plot_data = method.fit_transform(transformed_X)\n",
    "fig = px.scatter_3d(x = plot_data[:, 0], y = plot_data[:, 1], z = plot_data[:, 2], color = clinical_data[\"Overall Survival (Months)\"],\n",
    "                    color_continuous_scale=px.colors.sequential.Bluered)\n",
    "fig.show()"
   ],
   "outputs": []
  }
 ],
 "metadata": {
  "kernelspec": {
   "display_name": "Python 3 (ipykernel)",
   "language": "python",
   "name": "python3"
  },
  "language_info": {
   "codemirror_mode": {
    "name": "ipython",
    "version": 3
   },
   "file_extension": ".py",
   "mimetype": "text/x-python",
   "name": "python",
   "nbconvert_exporter": "python",
   "pygments_lexer": "ipython3",
   "version": "3.10.11"
  }
 },
 "nbformat": 4,
 "nbformat_minor": 5
}
