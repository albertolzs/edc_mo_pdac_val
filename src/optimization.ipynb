{
 "cells": [
  {
   "cell_type": "code",
   "execution_count": null,
   "id": "4615a83d-b9cd-4c1d-84df-d5e75c894c71",
   "metadata": {
    "ExecuteTime": {
     "end_time": "2023-05-23T15:01:01.387894429Z",
     "start_time": "2023-05-23T15:01:01.366280485Z"
    }
   },
   "outputs": [],
   "source": [
    "cd .."
   ]
  },
  {
   "cell_type": "markdown",
   "id": "d5a073f0-ba9d-4545-a0f4-a49d638b7695",
   "metadata": {},
   "source": [
    "# Multi-omics stratification on PDAC patients"
   ]
  },
  {
   "cell_type": "code",
   "execution_count": null,
   "id": "fa7dffc4-d560-47bb-84b8-a6870d4824a1",
   "metadata": {
    "ExecuteTime": {
     "end_time": "2023-05-23T15:01:03.420757620Z",
     "start_time": "2023-05-23T15:01:03.416255778Z"
    }
   },
   "outputs": [],
   "source": [
    "import os\n",
    "import pandas as pd\n",
    "import numpy as np\n",
    "from sklearn.decomposition import NMF\n",
    "from sklearn.preprocessing import StandardScaler\n",
    "import optuna\n",
    "import time\n",
    "import dill\n",
    "import shutil\n",
    "from optuna.samplers import TPESampler\n",
    "\n",
    "from src import settings\n",
    "from src.optimization import Optimization\n"
   ]
  },
  {
   "cell_type": "code",
   "execution_count": null,
   "id": "57bbe66c-4bfc-400e-b091-d5c4e7470545",
   "metadata": {},
   "outputs": [],
   "source": [
    "data_folder = \"data\"\n",
    "processed_data_folder = \"processed\"\n",
    "processed_data_path = os.path.join(data_folder, processed_data_folder)"
   ]
  },
  {
   "cell_type": "markdown",
   "id": "5991e212-7498-4da5-b089-c355594b1113",
   "metadata": {},
   "source": [
    "## Load dataset"
   ]
  },
  {
   "cell_type": "code",
   "execution_count": null,
   "id": "b060443c-018b-4697-ad34-d04329ca9dc2",
   "metadata": {},
   "outputs": [],
   "source": [
    "files = os.listdir(processed_data_path)\n",
    "files = list(filter(lambda x: os.path.isfile(os.path.join(processed_data_path, x)), files))\n",
    "file = -1"
   ]
  },
  {
   "cell_type": "code",
   "execution_count": null,
   "id": "29bdb0b5-e40f-4046-a42b-d4f532bacc18",
   "metadata": {},
   "outputs": [],
   "source": [
    "Xs = [pd.read_csv(os.path.join(processed_data_path, filename), index_col=0) for filename in files]\n",
    "samples = Xs[0].index"
   ]
  },
  {
   "cell_type": "code",
   "execution_count": null,
   "id": "91209305-898a-4e6e-a8fd-137381938b0f",
   "metadata": {},
   "outputs": [],
   "source": [
    "file += 1\n",
    "filename = files[file]\n",
    "data = pd.read_csv(os.path.join(processed_data_path, filename), index_col=0)\n",
    "print(f\"{filename}.shape\", data.shape)\n",
    "data.head()"
   ]
  },
  {
   "cell_type": "code",
   "execution_count": null,
   "id": "71279cfb-ec7a-48a3-94a1-3c587c580a01",
   "metadata": {},
   "outputs": [],
   "source": [
    "file += 1\n",
    "filename = files[file]\n",
    "data = pd.read_csv(os.path.join(processed_data_path, filename), index_col=0)\n",
    "print(f\"{filename}.shape\", data.shape)\n",
    "data.head()"
   ]
  },
  {
   "cell_type": "code",
   "execution_count": null,
   "id": "d7f62915-0113-4d62-ac2d-aa54f78b458e",
   "metadata": {},
   "outputs": [],
   "source": [
    "file += 1\n",
    "filename = files[file]\n",
    "data = pd.read_csv(os.path.join(processed_data_path, filename), index_col=0)\n",
    "print(f\"{filename}.shape\", data.shape)\n",
    "data.head()"
   ]
  },
  {
   "cell_type": "code",
   "execution_count": null,
   "id": "0042c4f6-dabc-45be-8d5b-69118f004391",
   "metadata": {},
   "outputs": [],
   "source": [
    "file += 1\n",
    "filename = files[file]\n",
    "data = pd.read_csv(os.path.join(processed_data_path, filename), index_col=0)\n",
    "print(f\"{filename}.shape\", data.shape)\n",
    "data.head()"
   ]
  },
  {
   "cell_type": "code",
   "execution_count": null,
   "id": "b13f9a31-7086-482a-88b6-1d7d34708c43",
   "metadata": {
    "ExecuteTime": {
     "end_time": "2023-05-23T15:01:44.123341892Z",
     "start_time": "2023-05-23T15:01:28.472433387Z"
    },
    "scrolled": true
   },
   "outputs": [],
   "source": [
    "new_study = False\n",
    "if new_study:\n",
    "    shutil.rmtree(\"tensorboard/\", ignore_errors= True)\n",
    "    date = time.strftime('%Y%m%d%H')\n",
    "    optimization_study = optuna.create_study(direction=\"maximize\", sampler=TPESampler(seed = 42, multivariate = True, n_startup_trials = 500))\n",
    "    n_trials = 1\n",
    "    for file in os.listdir(settings.optimization_path):\n",
    "        try:\n",
    "            os.remove(os.path.join(settings.optimization_path, file))\n",
    "        except IsADirectoryError:\n",
    "            shutil.rmtree(os.path.join(settings.optimization_path, file), ignore_errors= True)\n",
    "else:\n",
    "    date = \"2024051615\"\n",
    "    with open(os.path.join(settings.optimization_path, f'optimization_optuna_{date}.pkl'), 'rb') as file:\n",
    "        optimization_study = dill.load(file)\n",
    "    n_trials = 1000"
   ]
  },
  {
   "cell_type": "code",
   "execution_count": null,
   "id": "c1016923-cb4c-4a4f-a4b5-398eb4ed0aec",
   "metadata": {
    "scrolled": true
   },
   "outputs": [],
   "source": [
    "# %%capture --no-display\n",
    "\n",
    "pipelines = [StandardScaler().set_output(transform=\"pandas\") for _ in range(len(Xs))]\n",
    "\n",
    "func_objective = lambda trial: Optimization().objective(trial= trial, Xs= Xs, samples= samples, pipelines= pipelines, num_layers_option= [1,2,1], num_units_option= [2,6, 2],\n",
    "                                                        n_epochs_option= [20,100,20], lambda_option = [0.001, 1, 0.25], n_clusters_option= [2,6,1],\n",
    "                                                        latent_space_option = [32, 128, 32], batch_size=32,\n",
    "                                                        random_state=settings.RANDOM_STATE, n_jobs= 1)\n",
    "\n",
    "keep_trying = True\n",
    "while keep_trying:\n",
    "    try:\n",
    "        optimization_study = Optimization.optimize_optuna_and_save(study= optimization_study, n_trials = n_trials, date=date,\n",
    "                                                                   show_progress_bar= True, folder= settings.optimization_path, func= func_objective)\n",
    "        if new_study:\n",
    "            keep_trying = False\n",
    "    except FileNotFoundError:\n",
    "        pass\n",
    "    except ValueError:\n",
    "        pass"
   ]
  },
  {
   "cell_type": "code",
   "execution_count": null,
   "id": "a483a7ff-d100-48b2-922c-ea061d085ce4",
   "metadata": {},
   "outputs": [],
   "source": [
    "optimization_study.best_params"
   ]
  },
  {
   "cell_type": "code",
   "execution_count": null,
   "id": "316d20b5-9ab9-4279-9a4a-26d6f14ec482",
   "metadata": {},
   "outputs": [],
   "source": [
    "fig = optuna.visualization.plot_optimization_history(optimization_study)\n",
    "fig.show()"
   ]
  },
  {
   "cell_type": "code",
   "execution_count": null,
   "id": "1ed8537a-c234-4229-aeaf-4e35d58f016a",
   "metadata": {},
   "outputs": [],
   "source": [
    "fig = optuna.visualization.plot_param_importances(optimization_study)\n",
    "fig.show()"
   ]
  },
  {
   "cell_type": "code",
   "execution_count": null,
   "id": "3b8bb0c5-d57c-494c-b953-73f86fbaa159",
   "metadata": {},
   "outputs": [],
   "source": [
    "fig = optuna.visualization.plot_slice(optimization_study)\n",
    "fig.show()"
   ]
  },
  {
   "cell_type": "code",
   "execution_count": null,
   "id": "b613bd30-1831-41d6-adb2-e1f8de8cddb1",
   "metadata": {},
   "outputs": [],
   "source": [
    "optimization_results = pd.read_csv(os.path.join(settings.optimization_path, f\"optimization_results_{date}.csv\"))\n",
    "best_trial = optimization_results.iloc[0]\n",
    "print(\"optimization_results.shape\", optimization_results.shape)\n",
    "optimization_results.head()"
   ]
  }
 ],
 "metadata": {
  "kernelspec": {
   "display_name": "Python 3 (ipykernel)",
   "language": "python",
   "name": "python3"
  },
  "language_info": {
   "codemirror_mode": {
    "name": "ipython",
    "version": 3
   },
   "file_extension": ".py",
   "mimetype": "text/x-python",
   "name": "python",
   "nbconvert_exporter": "python",
   "pygments_lexer": "ipython3",
   "version": "3.11.9"
  }
 },
 "nbformat": 4,
 "nbformat_minor": 5
}
