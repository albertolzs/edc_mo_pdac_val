{
 "cells": [
  {
   "cell_type": "code",
   "execution_count": 2,
   "id": "a2344f69-d171-46f5-a26a-312602e62ac0",
   "metadata": {},
   "source": [
    "cd .."
   ],
   "outputs": []
  },
  {
   "cell_type": "code",
   "execution_count": 5,
   "id": "45cd6df2-b17b-4a0a-a516-544815000427",
   "metadata": {},
   "source": [
    "import os\n",
    "import pandas as pd\n",
    "import numpy as np\n",
    "from sklearn.preprocessing import StandardScaler\n",
    "from sklearn.pipeline import make_pipeline\n",
    "from sklearn.cluster import KMeans\n",
    "import plotly.express as px\n",
    "from sklearn.decomposition import PCA\n",
    "from sklearn.manifold import TSNE\n",
    "from umap import UMAP\n",
    "import optuna\n",
    "import dill\n",
    "from torch.utils.data import DataLoader\n",
    "from pytorch_lightning.utilities.seed import isolate_rng\n",
    "import torch\n",
    "import seaborn as sns\n",
    "from lifelines.statistics import multivariate_logrank_test\n",
    "from lifelines import KaplanMeierFitter, CoxPHFitter\n",
    "import matplotlib.pyplot as plt\n",
    "from lifelines.plotting import add_at_risk_counts\n",
    "from scipy.stats import chi2_contingency, kruskal, wilcoxon\n",
    "\n",
    "from src import settings\n",
    "from utils import MultiViewDataset, transform_full_dataset\n",
    "from optimization import Optimization"
   ],
   "outputs": []
  },
  {
   "cell_type": "code",
   "execution_count": 6,
   "id": "b2e2c0b1-4999-49f9-ab20-804e80b57f13",
   "metadata": {},
   "source": [
    "clinical_data = pd.read_csv(settings.clinical_data_path, sep=\"\\t\")\n",
    "clinical_data = clinical_data.set_index(\"Patient ID\")\n",
    "clinical_data.index.name = None\n",
    "print(\"clinical_data.shape\", clinical_data.shape)\n",
    "clinical_data.head()"
   ],
   "outputs": []
  },
  {
   "cell_type": "code",
   "execution_count": 7,
   "id": "c0e6c27a-fb92-4b74-be8b-1fd9c67070ff",
   "metadata": {},
   "source": [
    "methylation_data = pd.read_csv(settings.methylation_data_path, sep=\";\", index_col=0, decimal=\",\")\n",
    "methylation_data.columns = methylation_data.columns.str.replace(\".\", \"-\")\n",
    "methylation_data = methylation_data.T\n",
    "methylation_data = methylation_data.astype(np.float32)\n",
    "print(\"methylation_data.shape\", methylation_data.shape)\n",
    "methylation_data.head()"
   ],
   "outputs": []
  },
  {
   "cell_type": "code",
   "execution_count": 8,
   "id": "615acbdd-12c2-471f-ae42-f66c7af7bb8c",
   "metadata": {},
   "source": [
    "rnaseq_data = pd.read_csv(settings.rnaseq_data_path, sep=\";\", index_col=0, decimal=\",\")\n",
    "rnaseq_data = rnaseq_data.T\n",
    "rnaseq_data = rnaseq_data.astype(np.float32)\n",
    "print(\"rnaseq_data.shape\", rnaseq_data.shape)\n",
    "rnaseq_data.head()"
   ],
   "outputs": []
  },
  {
   "cell_type": "code",
   "execution_count": 9,
   "id": "77b2870c-5e96-40f5-aa7e-916f76693970",
   "metadata": {},
   "source": [
    "samples = methylation_data.index.intersection(rnaseq_data.index)\n",
    "methylation_data = methylation_data.loc[samples]\n",
    "rnaseq_data = rnaseq_data.loc[samples]\n",
    "assert methylation_data.index.equals(rnaseq_data.index)\n",
    "clinical_data = clinical_data.loc[samples]\n",
    "assert methylation_data.index.equals(clinical_data.index)\n",
    "Xs= [rnaseq_data, methylation_data]\n",
    "print(\"common samples:\", len(samples))"
   ],
   "outputs": []
  },
  {
   "cell_type": "code",
   "execution_count": 30,
   "id": "c8dca4b0-1ddf-4e1f-a073-34b13e73a856",
   "metadata": {},
   "source": [
    "transformed_Xs = transform_full_dataset(Xs=Xs, fit_pipelines = False, results_folder = settings.results_path)\n",
    "for transformed_X in transformed_Xs:\n",
    "    print(\"transformed_X.shape\", transformed_X.shape)\n",
    "    display(transformed_X.head())"
   ],
   "outputs": []
  },
  {
   "cell_type": "code",
   "execution_count": 31,
   "id": "5a5af8f6-0733-446a-8bfd-34fc85ddcf9b",
   "metadata": {},
   "source": [
    "clustering_statistical_table = pd.DataFrame([], columns= [\"SNF\", \"iNMF\", \"jNMF\"], index= [\"Overall Survival\", \"Diagnosis age\", \"AJCC tumor stage\",\n",
    "                                                                                                       \"AJCC metastasis stage\", \"AJCC neoplasm histologic grade\", \"Sex\"])\n"
   ],
   "outputs": []
  },
  {
   "cell_type": "code",
   "execution_count": 34,
   "id": "eef4b3b6-9aea-4f61-abc2-3b108f546ee2",
   "metadata": {},
   "source": [
    "from snf import compute\n",
    "from sklearn import cluster\n",
    "affinities = compute.make_affinity(transformed_Xs, metric='euclidean')\n",
    "fused = compute.snf(affinities)\n",
    "n_clusters_snf = compute.get_n_clusters(fused)[0]\n",
    "preds_snf = cluster.spectral_clustering(fused, n_clusters= n_clusters_snf)\n",
    "clinical_data[\"preds_snf\"] = preds_snf\n",
    "ax = clinical_data[\"preds_snf\"].value_counts().plot(kind=\"bar\", title= \"Count of samples in clusters\", x= \"preds_snf\", ylabel= \"Number of samples\")\n",
    "for container in ax.containers:\n",
    "    ax.bar_label(container)"
   ],
   "outputs": []
  },
  {
   "cell_type": "code",
   "execution_count": 35,
   "id": "9caabb09-ca21-4a91-a7d9-7a2832359cea",
   "metadata": {},
   "source": [
    "logrank_test = multivariate_logrank_test(event_durations= clinical_data[\"Overall Survival (Months)\"], groups= clinical_data[\"preds_snf\"])\n",
    "logrank_test"
   ],
   "outputs": []
  },
  {
   "cell_type": "code",
   "execution_count": 36,
   "id": "fbcdd4d1-2901-427b-92aa-3168a7f4d14e",
   "metadata": {},
   "source": [
    "ax = plt.subplot(111)\n",
    "ax.set_title(\"Survival plot\")\n",
    "ax.text(0, 0, f\"p-value= {round(logrank_test.p_value, 3)}\")\n",
    "clustering_statistical_table.loc[\"Overall Survival\", \"HC\"] = logrank_test.p_value\n",
    "kmfs = []\n",
    "for cluster in sorted(clinical_data[\"preds_snf\"].unique()):\n",
    "    duration = clinical_data[\"Overall Survival (Months)\"][clinical_data[\"preds_snf\"] == cluster]\n",
    "    kmf = KaplanMeierFitter().fit(duration, label = str(cluster))\n",
    "    kmfs.append(kmf)\n",
    "    ax = kmf.plot(ax=ax)\n",
    "\n",
    "add_at_risk_counts(*kmfs, ax=ax)\n",
    "plt.tight_layout()"
   ],
   "outputs": []
  },
  {
   "cell_type": "code",
   "execution_count": 37,
   "id": "0b5f151a-a057-4446-9aa7-71d94c796c23",
   "metadata": {},
   "source": [
    "clinical_label = \"American Joint Committee on Cancer Tumor Stage Code\"\n",
    "clinical_parameter = clinical_data[clinical_label].str[-1].astype(float).dropna().astype(int)\n",
    "clinical_label = \"AJN Tumor stage\"\n",
    "clinical_parameter = clinical_parameter.rename(clinical_label)\n",
    "fig, axes = plt.subplots(1, 2, figsize= (12, 4))\n",
    "crosstab = pd.crosstab(clinical_parameter, clinical_data['preds_snf'])\n",
    "sns.heatmap(crosstab * 100 / crosstab.sum(0), annot=True, fmt=\".1f\", ax= axes[0])\n",
    "pval = chi2_contingency(pd.crosstab(clinical_parameter, clinical_data['preds_snf'])).pvalue\n",
    "clustering_statistical_table.loc[\"AJCC tumor stage\", \"HC\"] = pval\n",
    "axes[0].set_title(f\"p-value= {round(pval, 3)}\", fontsize= 10)\n",
    "clinical_parameter = clinical_parameter.to_frame()\n",
    "clinical_parameter[\"preds_snf\"] = clinical_data['preds_snf']\n",
    "sns.countplot(data= clinical_parameter, x= clinical_label, hue= \"preds_snf\", ax= axes[1])\n",
    "for container in axes[1].containers:\n",
    "    axes[1].bar_label(container)"
   ],
   "outputs": []
  },
  {
   "cell_type": "code",
   "execution_count": 38,
   "id": "d39d5550-d112-44a0-9ca7-ef427fd535cb",
   "metadata": {},
   "source": [
    "clinical_label = \"Neoplasm Histologic Grade\"\n",
    "clinical_parameter = clinical_data[clinical_label].str[-1].astype(float).dropna().astype(int)\n",
    "fig, axes = plt.subplots(1, 2, figsize= (12, 4))\n",
    "crosstab = pd.crosstab(clinical_parameter, clinical_data['preds_snf'])\n",
    "sns.heatmap(crosstab * 100 / crosstab.sum(0), annot=True, fmt=\".1f\", ax= axes[0])\n",
    "pval = chi2_contingency(pd.crosstab(clinical_parameter, clinical_data['preds_snf'])).pvalue\n",
    "clustering_statistical_table.loc[\"AJCC neoplasm histologic grade\", \"HC\"] = pval\n",
    "axes[0].set_title(f\"p-value= {round(pval, 3)}\", fontsize= 10)\n",
    "clinical_parameter = clinical_parameter.to_frame()\n",
    "clinical_parameter[\"preds_snf\"] = clinical_data['preds_snf']\n",
    "sns.countplot(data= clinical_parameter, x= clinical_label, hue= \"preds_snf\", ax= axes[1])\n",
    "for container in axes[1].containers:\n",
    "    axes[1].bar_label(container)"
   ],
   "outputs": []
  },
  {
   "cell_type": "code",
   "execution_count": 39,
   "id": "37e3abc3-af30-488a-9f4d-ca56bffe7c34",
   "metadata": {},
   "source": [
    "clinical_label = \"Sex\"\n",
    "clinical_parameter = clinical_data[clinical_label]\n",
    "crosstab = pd.crosstab(clinical_parameter, clinical_data['preds_snf'])\n",
    "fig, axes = plt.subplots(1, 2, figsize= (12, 4))\n",
    "crosstab = pd.crosstab(clinical_parameter, clinical_data['preds_snf'])\n",
    "sns.heatmap(crosstab * 100 / crosstab.sum(0), annot=True, fmt=\".1f\", ax= axes[0])\n",
    "clinical_parameter = pd.get_dummies(clinical_data[clinical_label], drop_first=True).astype(int).squeeze()\n",
    "pval = chi2_contingency(pd.crosstab(clinical_parameter, clinical_data['preds_snf'])).pvalue\n",
    "clustering_statistical_table.loc[\"Sex\", \"HC\"] = pval\n",
    "axes[0].set_title(f\"p-value= {round(pval, 3)}\", fontsize= 10)\n",
    "clinical_parameter = clinical_parameter.to_frame()\n",
    "clinical_parameter[\"preds_snf\"] = clinical_data['preds_snf']\n",
    "sns.countplot(data= clinical_data, x= clinical_label, hue= \"preds_snf\", ax= axes[1])\n",
    "for container in axes[1].containers:\n",
    "    axes[1].bar_label(container)"
   ],
   "outputs": []
  },
  {
   "cell_type": "code",
   "execution_count": 40,
   "id": "582677c8-cd67-4fbd-b06c-6ad6c4223947",
   "metadata": {},
   "source": [
    "clinical_label = \"American Joint Committee on Cancer Metastasis Stage Code\"\n",
    "clinical_parameter = clinical_data[clinical_label].str[-1]\n",
    "clinical_parameter = clinical_parameter[clinical_parameter != \"X\"]\n",
    "clinical_parameter = clinical_parameter.astype(float).dropna().astype(int)\n",
    "clinical_label = \"AJN Cancer Metastasis\"\n",
    "clinical_parameter = clinical_parameter.rename(clinical_label)\n",
    "fig, axes = plt.subplots(1, 2, figsize= (12, 4))\n",
    "crosstab = pd.crosstab(clinical_parameter, clinical_data['preds_snf'])\n",
    "sns.heatmap(crosstab * 100 / crosstab.sum(0), annot=True, fmt=\".1f\", ax= axes[0])\n",
    "pval = chi2_contingency(pd.crosstab(clinical_parameter, clinical_data['preds_snf'])).pvalue\n",
    "clustering_statistical_table.loc[\"AJCC metastasis stage\", \"HC\"] = pval\n",
    "axes[0].set_title(f\"p-value= {round(pval, 3)}\", fontsize= 10)\n",
    "clinical_parameter = clinical_parameter.to_frame()\n",
    "clinical_parameter[\"preds_snf\"] = clinical_data['preds_snf']\n",
    "ax= sns.countplot(data= clinical_parameter, x= clinical_label, hue= \"preds_snf\")\n",
    "ax.set_title(f\"p-value= {pval}\", fontsize= 10)\n",
    "for container in ax.containers:\n",
    "    ax.bar_label(container)"
   ],
   "outputs": []
  },
  {
   "cell_type": "code",
   "execution_count": 41,
   "id": "65d45606-3a0e-4ec4-92a8-cdeeb73b707c",
   "metadata": {},
   "source": [
    "clinical_label = \"Diagnosis Age\"\n",
    "clinical_parameter = clinical_data[clinical_label].dropna()\n",
    "pval = kruskal(*[clinical_parameter[clinical_data['preds_snf'] == cl] for cl in clinical_data['preds_snf'].unique()]).pvalue\n",
    "clustering_statistical_table.loc[\"Diagnosis age\", \"HC\"] = pval\n",
    "clinical_parameter = clinical_parameter.to_frame()\n",
    "clinical_parameter[\"preds_snf\"] = clinical_data['preds_snf']\n",
    "ax = clinical_parameter.boxplot(column= clinical_label, by= \"preds_snf\", grid=False)\n",
    "_ = ax.text(1.3, 50, f\"p-value= {round(pval, 3)}\")"
   ],
   "outputs": []
  },
  {
   "cell_type": "code",
   "execution_count": 65,
   "id": "57908eee-a181-48ca-95c2-8da13b29d918",
   "metadata": {},
   "source": [
    "from bignmf.models.jnmf.integrative import IntegrativeJnmf\n",
    "from sklearn.preprocessing import MinMaxScaler\n",
    "\n",
    "model = IntegrativeJnmf({0: MinMaxScaler().set_output(transform= \"pandas\").fit_transform(transformed_Xs[0]), 1: MinMaxScaler().set_output(transform= \"pandas\").fit_transform(transformed_Xs[1])}, 2, 0.1)\n",
    "# Runs the model\n",
    "model.run(50, 100, verbose=0)\n",
    "model.cluster_data()\n",
    "clinical_data[\"preds_inmf\"] = np.argmax(model.w_cluster, 1)\n",
    "ax = clinical_data[\"preds_inmf\"].value_counts().plot(kind=\"bar\", title= \"Count of samples in clusters\", x= \"preds_inmf\", ylabel= \"Number of samples\")\n",
    "for container in ax.containers:\n",
    "    ax.bar_label(container)"
   ],
   "outputs": []
  },
  {
   "cell_type": "code",
   "execution_count": 66,
   "id": "ecb9cad3-f680-45df-8e93-a5e42bd997cf",
   "metadata": {},
   "source": [
    "logrank_test = multivariate_logrank_test(event_durations= clinical_data[\"Overall Survival (Months)\"], groups= clinical_data[\"preds_inmf\"])\n",
    "logrank_test"
   ],
   "outputs": []
  },
  {
   "cell_type": "code",
   "execution_count": 67,
   "id": "e4016f3c-0972-477e-9560-886779611013",
   "metadata": {},
   "source": [
    "ax = plt.subplot(111)\n",
    "ax.set_title(\"Survival plot\")\n",
    "ax.text(0, 0, f\"p-value= {round(logrank_test.p_value, 3)}\")\n",
    "clustering_statistical_table.loc[\"Overall Survival\", \"HC\"] = logrank_test.p_value\n",
    "kmfs = []\n",
    "for cluster in sorted(clinical_data[\"preds_inmf\"].unique()):\n",
    "    duration = clinical_data[\"Overall Survival (Months)\"][clinical_data[\"preds_inmf\"] == cluster]\n",
    "    kmf = KaplanMeierFitter().fit(duration, label = str(cluster))\n",
    "    kmfs.append(kmf)\n",
    "    ax = kmf.plot(ax=ax)\n",
    "\n",
    "add_at_risk_counts(*kmfs, ax=ax)\n",
    "plt.tight_layout()"
   ],
   "outputs": []
  },
  {
   "cell_type": "code",
   "execution_count": 68,
   "id": "f6e923ce-fa55-4272-ab06-807b34747571",
   "metadata": {},
   "source": [
    "clinical_label = \"American Joint Committee on Cancer Tumor Stage Code\"\n",
    "clinical_parameter = clinical_data[clinical_label].str[-1].astype(float).dropna().astype(int)\n",
    "clinical_label = \"AJN Tumor stage\"\n",
    "clinical_parameter = clinical_parameter.rename(clinical_label)\n",
    "fig, axes = plt.subplots(1, 2, figsize= (12, 4))\n",
    "crosstab = pd.crosstab(clinical_parameter, clinical_data['preds_inmf'])\n",
    "sns.heatmap(crosstab * 100 / crosstab.sum(0), annot=True, fmt=\".1f\", ax= axes[0])\n",
    "pval = chi2_contingency(pd.crosstab(clinical_parameter, clinical_data['preds_inmf'])).pvalue\n",
    "clustering_statistical_table.loc[\"AJCC tumor stage\", \"HC\"] = pval\n",
    "axes[0].set_title(f\"p-value= {round(pval, 3)}\", fontsize= 10)\n",
    "clinical_parameter = clinical_parameter.to_frame()\n",
    "clinical_parameter[\"preds_inmf\"] = clinical_data['preds_inmf']\n",
    "sns.countplot(data= clinical_parameter, x= clinical_label, hue= \"preds_inmf\", ax= axes[1])\n",
    "for container in axes[1].containers:\n",
    "    axes[1].bar_label(container)"
   ],
   "outputs": []
  },
  {
   "cell_type": "code",
   "execution_count": 69,
   "id": "135c278f-7077-4d4c-aeb1-3d99662375fd",
   "metadata": {},
   "source": [
    "clinical_label = \"Neoplasm Histologic Grade\"\n",
    "clinical_parameter = clinical_data[clinical_label].str[-1].astype(float).dropna().astype(int)\n",
    "fig, axes = plt.subplots(1, 2, figsize= (12, 4))\n",
    "crosstab = pd.crosstab(clinical_parameter, clinical_data['preds_inmf'])\n",
    "sns.heatmap(crosstab * 100 / crosstab.sum(0), annot=True, fmt=\".1f\", ax= axes[0])\n",
    "pval = chi2_contingency(pd.crosstab(clinical_parameter, clinical_data['preds_inmf'])).pvalue\n",
    "clustering_statistical_table.loc[\"AJCC neoplasm histologic grade\", \"HC\"] = pval\n",
    "axes[0].set_title(f\"p-value= {round(pval, 3)}\", fontsize= 10)\n",
    "clinical_parameter = clinical_parameter.to_frame()\n",
    "clinical_parameter[\"preds_inmf\"] = clinical_data['preds_inmf']\n",
    "sns.countplot(data= clinical_parameter, x= clinical_label, hue= \"preds_inmf\", ax= axes[1])\n",
    "for container in axes[1].containers:\n",
    "    axes[1].bar_label(container)"
   ],
   "outputs": []
  },
  {
   "cell_type": "code",
   "execution_count": 70,
   "id": "095e8c2d-96c5-4cd3-91a6-36f3119e9116",
   "metadata": {},
   "source": [
    "clinical_label = \"Sex\"\n",
    "clinical_parameter = clinical_data[clinical_label]\n",
    "crosstab = pd.crosstab(clinical_parameter, clinical_data['preds_inmf'])\n",
    "fig, axes = plt.subplots(1, 2, figsize= (12, 4))\n",
    "crosstab = pd.crosstab(clinical_parameter, clinical_data['preds_inmf'])\n",
    "sns.heatmap(crosstab * 100 / crosstab.sum(0), annot=True, fmt=\".1f\", ax= axes[0])\n",
    "clinical_parameter = pd.get_dummies(clinical_data[clinical_label], drop_first=True).astype(int).squeeze()\n",
    "pval = chi2_contingency(pd.crosstab(clinical_parameter, clinical_data['preds_inmf'])).pvalue\n",
    "clustering_statistical_table.loc[\"Sex\", \"HC\"] = pval\n",
    "axes[0].set_title(f\"p-value= {round(pval, 3)}\", fontsize= 10)\n",
    "clinical_parameter = clinical_parameter.to_frame()\n",
    "clinical_parameter[\"preds_inmf\"] = clinical_data['preds_inmf']\n",
    "sns.countplot(data= clinical_data, x= clinical_label, hue= \"preds_inmf\", ax= axes[1])\n",
    "for container in axes[1].containers:\n",
    "    axes[1].bar_label(container)"
   ],
   "outputs": []
  },
  {
   "cell_type": "code",
   "execution_count": 71,
   "id": "cd60bcc1-11e3-47a3-b48d-08ae29baf9b9",
   "metadata": {},
   "source": [
    "clinical_label = \"American Joint Committee on Cancer Metastasis Stage Code\"\n",
    "clinical_parameter = clinical_data[clinical_label].str[-1]\n",
    "clinical_parameter = clinical_parameter[clinical_parameter != \"X\"]\n",
    "clinical_parameter = clinical_parameter.astype(float).dropna().astype(int)\n",
    "clinical_label = \"AJN Cancer Metastasis\"\n",
    "clinical_parameter = clinical_parameter.rename(clinical_label)\n",
    "fig, axes = plt.subplots(1, 2, figsize= (12, 4))\n",
    "crosstab = pd.crosstab(clinical_parameter, clinical_data['preds_inmf'])\n",
    "sns.heatmap(crosstab * 100 / crosstab.sum(0), annot=True, fmt=\".1f\", ax= axes[0])\n",
    "pval = chi2_contingency(pd.crosstab(clinical_parameter, clinical_data['preds_inmf'])).pvalue\n",
    "clustering_statistical_table.loc[\"AJCC metastasis stage\", \"HC\"] = pval\n",
    "axes[0].set_title(f\"p-value= {round(pval, 3)}\", fontsize= 10)\n",
    "clinical_parameter = clinical_parameter.to_frame()\n",
    "clinical_parameter[\"preds_inmf\"] = clinical_data['preds_inmf']\n",
    "ax= sns.countplot(data= clinical_parameter, x= clinical_label, hue= \"preds_inmf\")\n",
    "ax.set_title(f\"p-value= {pval}\", fontsize= 10)\n",
    "for container in ax.containers:\n",
    "    ax.bar_label(container)"
   ],
   "outputs": []
  },
  {
   "cell_type": "code",
   "execution_count": 72,
   "id": "5f3a52b0-6b13-4cdb-ab9a-e9b0b22b22ad",
   "metadata": {},
   "source": [
    "clinical_label = \"Diagnosis Age\"\n",
    "clinical_parameter = clinical_data[clinical_label].dropna()\n",
    "pval = kruskal(*[clinical_parameter[clinical_data['preds_inmf'] == cl] for cl in clinical_data['preds_inmf'].unique()]).pvalue\n",
    "clustering_statistical_table.loc[\"Diagnosis age\", \"HC\"] = pval\n",
    "clinical_parameter = clinical_parameter.to_frame()\n",
    "clinical_parameter[\"preds_inmf\"] = clinical_data['preds_inmf']\n",
    "ax = clinical_parameter.boxplot(column= clinical_label, by= \"preds_inmf\", grid=False)\n",
    "_ = ax.text(1.3, 50, f\"p-value= {round(pval, 3)}\")"
   ],
   "outputs": []
  },
  {
   "cell_type": "code",
   "execution_count": 74,
   "id": "f077cd86-d4c8-44ce-b0ae-bd9cb21d06b4",
   "metadata": {},
   "source": [
    "from bignmf.models.jnmf.standard import StandardJnmf\n",
    "from sklearn.preprocessing import MinMaxScaler\n",
    "\n",
    "model = StandardJnmf({0: MinMaxScaler().set_output(transform= \"pandas\").fit_transform(transformed_Xs[0]), 1: MinMaxScaler().set_output(transform= \"pandas\").fit_transform(transformed_Xs[1])}, 2)\n",
    "# Runs the model\n",
    "model.run(50, 100, verbose=0)\n",
    "model.cluster_data()\n",
    "clinical_data[\"preds_jnmf\"] = np.argmax(model.w_cluster, 1)\n",
    "ax = clinical_data[\"preds_jnmf\"].value_counts().plot(kind=\"bar\", title= \"Count of samples in clusters\", x= \"preds_jnmf\", ylabel= \"Number of samples\")\n",
    "for container in ax.containers:\n",
    "    ax.bar_label(container)"
   ],
   "outputs": []
  },
  {
   "cell_type": "code",
   "execution_count": 75,
   "id": "47747e4b-9a21-4eb8-8a2c-4c71c9025b68",
   "metadata": {},
   "source": [
    "logrank_test = multivariate_logrank_test(event_durations= clinical_data[\"Overall Survival (Months)\"], groups= clinical_data[\"preds_jnmf\"])\n",
    "logrank_test"
   ],
   "outputs": []
  },
  {
   "cell_type": "code",
   "execution_count": 76,
   "id": "5551af61-bce4-46a1-943f-a8224d936b11",
   "metadata": {},
   "source": [
    "ax = plt.subplot(111)\n",
    "ax.set_title(\"Survival plot\")\n",
    "ax.text(0, 0, f\"p-value= {round(logrank_test.p_value, 3)}\")\n",
    "clustering_statistical_table.loc[\"Overall Survival\", \"HC\"] = logrank_test.p_value\n",
    "kmfs = []\n",
    "for cluster in sorted(clinical_data[\"preds_jnmf\"].unique()):\n",
    "    duration = clinical_data[\"Overall Survival (Months)\"][clinical_data[\"preds_jnmf\"] == cluster]\n",
    "    kmf = KaplanMeierFitter().fit(duration, label = str(cluster))\n",
    "    kmfs.append(kmf)\n",
    "    ax = kmf.plot(ax=ax)\n",
    "\n",
    "add_at_risk_counts(*kmfs, ax=ax)\n",
    "plt.tight_layout()"
   ],
   "outputs": []
  },
  {
   "cell_type": "code",
   "execution_count": 77,
   "id": "0f26c84d-fc37-463f-bb21-196f3bbb5ad0",
   "metadata": {},
   "source": [
    "clinical_label = \"American Joint Committee on Cancer Tumor Stage Code\"\n",
    "clinical_parameter = clinical_data[clinical_label].str[-1].astype(float).dropna().astype(int)\n",
    "clinical_label = \"AJN Tumor stage\"\n",
    "clinical_parameter = clinical_parameter.rename(clinical_label)\n",
    "fig, axes = plt.subplots(1, 2, figsize= (12, 4))\n",
    "crosstab = pd.crosstab(clinical_parameter, clinical_data['preds_jnmf'])\n",
    "sns.heatmap(crosstab * 100 / crosstab.sum(0), annot=True, fmt=\".1f\", ax= axes[0])\n",
    "pval = chi2_contingency(pd.crosstab(clinical_parameter, clinical_data['preds_jnmf'])).pvalue\n",
    "clustering_statistical_table.loc[\"AJCC tumor stage\", \"HC\"] = pval\n",
    "axes[0].set_title(f\"p-value= {round(pval, 3)}\", fontsize= 10)\n",
    "clinical_parameter = clinical_parameter.to_frame()\n",
    "clinical_parameter[\"preds_jnmf\"] = clinical_data['preds_jnmf']\n",
    "sns.countplot(data= clinical_parameter, x= clinical_label, hue= \"preds_jnmf\", ax= axes[1])\n",
    "for container in axes[1].containers:\n",
    "    axes[1].bar_label(container)"
   ],
   "outputs": []
  },
  {
   "cell_type": "code",
   "execution_count": 78,
   "id": "d2078f48-aa78-4bcb-b574-d0542954a70a",
   "metadata": {},
   "source": [
    "clinical_label = \"Neoplasm Histologic Grade\"\n",
    "clinical_parameter = clinical_data[clinical_label].str[-1].astype(float).dropna().astype(int)\n",
    "fig, axes = plt.subplots(1, 2, figsize= (12, 4))\n",
    "crosstab = pd.crosstab(clinical_parameter, clinical_data['preds_jnmf'])\n",
    "sns.heatmap(crosstab * 100 / crosstab.sum(0), annot=True, fmt=\".1f\", ax= axes[0])\n",
    "pval = chi2_contingency(pd.crosstab(clinical_parameter, clinical_data['preds_jnmf'])).pvalue\n",
    "clustering_statistical_table.loc[\"AJCC neoplasm histologic grade\", \"HC\"] = pval\n",
    "axes[0].set_title(f\"p-value= {round(pval, 3)}\", fontsize= 10)\n",
    "clinical_parameter = clinical_parameter.to_frame()\n",
    "clinical_parameter[\"preds_jnmf\"] = clinical_data['preds_jnmf']\n",
    "sns.countplot(data= clinical_parameter, x= clinical_label, hue= \"preds_jnmf\", ax= axes[1])\n",
    "for container in axes[1].containers:\n",
    "    axes[1].bar_label(container)"
   ],
   "outputs": []
  },
  {
   "cell_type": "code",
   "execution_count": 79,
   "id": "36a9575a-9cc3-439e-98ae-23802ee1b8b1",
   "metadata": {},
   "source": [
    "clinical_label = \"Sex\"\n",
    "clinical_parameter = clinical_data[clinical_label]\n",
    "crosstab = pd.crosstab(clinical_parameter, clinical_data['preds_jnmf'])\n",
    "fig, axes = plt.subplots(1, 2, figsize= (12, 4))\n",
    "crosstab = pd.crosstab(clinical_parameter, clinical_data['preds_jnmf'])\n",
    "sns.heatmap(crosstab * 100 / crosstab.sum(0), annot=True, fmt=\".1f\", ax= axes[0])\n",
    "clinical_parameter = pd.get_dummies(clinical_data[clinical_label], drop_first=True).astype(int).squeeze()\n",
    "pval = chi2_contingency(pd.crosstab(clinical_parameter, clinical_data['preds_jnmf'])).pvalue\n",
    "clustering_statistical_table.loc[\"Sex\", \"HC\"] = pval\n",
    "axes[0].set_title(f\"p-value= {round(pval, 3)}\", fontsize= 10)\n",
    "clinical_parameter = clinical_parameter.to_frame()\n",
    "clinical_parameter[\"preds_jnmf\"] = clinical_data['preds_jnmf']\n",
    "sns.countplot(data= clinical_data, x= clinical_label, hue= \"preds_jnmf\", ax= axes[1])\n",
    "for container in axes[1].containers:\n",
    "    axes[1].bar_label(container)"
   ],
   "outputs": []
  },
  {
   "cell_type": "code",
   "execution_count": 80,
   "id": "19def201-9530-4065-9975-bb0b0cb48b6a",
   "metadata": {},
   "source": [
    "clinical_label = \"American Joint Committee on Cancer Metastasis Stage Code\"\n",
    "clinical_parameter = clinical_data[clinical_label].str[-1]\n",
    "clinical_parameter = clinical_parameter[clinical_parameter != \"X\"]\n",
    "clinical_parameter = clinical_parameter.astype(float).dropna().astype(int)\n",
    "clinical_label = \"AJN Cancer Metastasis\"\n",
    "clinical_parameter = clinical_parameter.rename(clinical_label)\n",
    "fig, axes = plt.subplots(1, 2, figsize= (12, 4))\n",
    "crosstab = pd.crosstab(clinical_parameter, clinical_data['preds_jnmf'])\n",
    "sns.heatmap(crosstab * 100 / crosstab.sum(0), annot=True, fmt=\".1f\", ax= axes[0])\n",
    "pval = chi2_contingency(pd.crosstab(clinical_parameter, clinical_data['preds_jnmf'])).pvalue\n",
    "clustering_statistical_table.loc[\"AJCC metastasis stage\", \"HC\"] = pval\n",
    "axes[0].set_title(f\"p-value= {round(pval, 3)}\", fontsize= 10)\n",
    "clinical_parameter = clinical_parameter.to_frame()\n",
    "clinical_parameter[\"preds_jnmf\"] = clinical_data['preds_jnmf']\n",
    "ax= sns.countplot(data= clinical_parameter, x= clinical_label, hue= \"preds_jnmf\")\n",
    "ax.set_title(f\"p-value= {pval}\", fontsize= 10)\n",
    "for container in ax.containers:\n",
    "    ax.bar_label(container)"
   ],
   "outputs": []
  },
  {
   "cell_type": "code",
   "execution_count": 81,
   "id": "504d17eb-2e6e-4a01-b751-827bbc5aaed1",
   "metadata": {},
   "source": [
    "clinical_label = \"Diagnosis Age\"\n",
    "clinical_parameter = clinical_data[clinical_label].dropna()\n",
    "pval = kruskal(*[clinical_parameter[clinical_data['preds_jnmf'] == cl] for cl in clinical_data['preds_jnmf'].unique()]).pvalue\n",
    "clustering_statistical_table.loc[\"Diagnosis age\", \"HC\"] = pval\n",
    "clinical_parameter = clinical_parameter.to_frame()\n",
    "clinical_parameter[\"preds_jnmf\"] = clinical_data['preds_jnmf']\n",
    "ax = clinical_parameter.boxplot(column= clinical_label, by= \"preds_jnmf\", grid=False)\n",
    "_ = ax.text(1.3, 50, f\"p-value= {round(pval, 3)}\")"
   ],
   "outputs": []
  },
  {
   "cell_type": "code",
   "execution_count": 14,
   "id": "14c5a056-a677-402e-964c-124dc2222d2e",
   "metadata": {},
   "source": [
    "from snf import compute\n",
    "from sklearn import cluster\n",
    "affinities = compute.make_affinity(Xs, metric='euclidean')\n",
    "fused = compute.snf(affinities)\n",
    "n_clusters_snf = compute.get_n_clusters(fused)[0]\n",
    "preds_snf = cluster.spectral_clustering(fused, n_clusters= n_clusters_snf)\n",
    "clinical_data[\"preds_snf\"] = preds_snf\n",
    "ax = clinical_data[\"preds_snf\"].value_counts().plot(kind=\"bar\", title= \"Count of samples in clusters\", x= \"preds_snf\", ylabel= \"Number of samples\")\n",
    "for container in ax.containers:\n",
    "    ax.bar_label(container)"
   ],
   "outputs": []
  },
  {
   "cell_type": "code",
   "execution_count": 15,
   "id": "84969b2d-c1b4-40e5-b8ce-f0944f1c3f8f",
   "metadata": {},
   "source": [
    "logrank_test = multivariate_logrank_test(event_durations= clinical_data[\"Overall Survival (Months)\"], groups= clinical_data[\"preds_snf\"])\n",
    "logrank_test"
   ],
   "outputs": []
  },
  {
   "cell_type": "code",
   "execution_count": 18,
   "id": "ce1150cb-7d30-4fa0-818b-25938584b074",
   "metadata": {},
   "source": [
    "ax = plt.subplot(111)\n",
    "ax.set_title(\"Survival plot\")\n",
    "ax.text(0, 0, f\"p-value= {round(logrank_test.p_value, 3)}\")\n",
    "clustering_statistical_table.loc[\"Overall Survival\", \"HC\"] = logrank_test.p_value\n",
    "kmfs = []\n",
    "for cluster in sorted(clinical_data[\"preds_snf\"].unique()):\n",
    "    duration = clinical_data[\"Overall Survival (Months)\"][clinical_data[\"preds_snf\"] == cluster]\n",
    "    kmf = KaplanMeierFitter().fit(duration, label = str(cluster))\n",
    "    kmfs.append(kmf)\n",
    "    ax = kmf.plot(ax=ax)\n",
    "\n",
    "add_at_risk_counts(*kmfs, ax=ax)\n",
    "plt.tight_layout()"
   ],
   "outputs": []
  },
  {
   "cell_type": "code",
   "execution_count": 19,
   "id": "3938d727-cfd5-443e-969f-4ced23dd206b",
   "metadata": {},
   "source": [
    "clinical_label = \"American Joint Committee on Cancer Tumor Stage Code\"\n",
    "clinical_parameter = clinical_data[clinical_label].str[-1].astype(float).dropna().astype(int)\n",
    "clinical_label = \"AJN Tumor stage\"\n",
    "clinical_parameter = clinical_parameter.rename(clinical_label)\n",
    "fig, axes = plt.subplots(1, 2, figsize= (12, 4))\n",
    "crosstab = pd.crosstab(clinical_parameter, clinical_data['preds_snf'])\n",
    "sns.heatmap(crosstab * 100 / crosstab.sum(0), annot=True, fmt=\".1f\", ax= axes[0])\n",
    "pval = chi2_contingency(pd.crosstab(clinical_parameter, clinical_data['preds_snf'])).pvalue\n",
    "clustering_statistical_table.loc[\"AJCC tumor stage\", \"HC\"] = pval\n",
    "axes[0].set_title(f\"p-value= {round(pval, 3)}\", fontsize= 10)\n",
    "clinical_parameter = clinical_parameter.to_frame()\n",
    "clinical_parameter[\"preds_snf\"] = clinical_data['preds_snf']\n",
    "sns.countplot(data= clinical_parameter, x= clinical_label, hue= \"preds_snf\", ax= axes[1])\n",
    "for container in axes[1].containers:\n",
    "    axes[1].bar_label(container)"
   ],
   "outputs": []
  },
  {
   "cell_type": "code",
   "execution_count": 20,
   "id": "058bc4b8-361a-48b1-9e8d-778c1bf71231",
   "metadata": {},
   "source": [
    "clinical_label = \"Neoplasm Histologic Grade\"\n",
    "clinical_parameter = clinical_data[clinical_label].str[-1].astype(float).dropna().astype(int)\n",
    "fig, axes = plt.subplots(1, 2, figsize= (12, 4))\n",
    "crosstab = pd.crosstab(clinical_parameter, clinical_data['preds_snf'])\n",
    "sns.heatmap(crosstab * 100 / crosstab.sum(0), annot=True, fmt=\".1f\", ax= axes[0])\n",
    "pval = chi2_contingency(pd.crosstab(clinical_parameter, clinical_data['preds_snf'])).pvalue\n",
    "clustering_statistical_table.loc[\"AJCC neoplasm histologic grade\", \"HC\"] = pval\n",
    "axes[0].set_title(f\"p-value= {round(pval, 3)}\", fontsize= 10)\n",
    "clinical_parameter = clinical_parameter.to_frame()\n",
    "clinical_parameter[\"preds_snf\"] = clinical_data['preds_snf']\n",
    "sns.countplot(data= clinical_parameter, x= clinical_label, hue= \"preds_snf\", ax= axes[1])\n",
    "for container in axes[1].containers:\n",
    "    axes[1].bar_label(container)"
   ],
   "outputs": []
  },
  {
   "cell_type": "code",
   "execution_count": 21,
   "id": "6f5e59bb-d72d-447a-9d43-d19a238da263",
   "metadata": {},
   "source": [
    "clinical_label = \"Sex\"\n",
    "clinical_parameter = clinical_data[clinical_label]\n",
    "crosstab = pd.crosstab(clinical_parameter, clinical_data['preds_snf'])\n",
    "fig, axes = plt.subplots(1, 2, figsize= (12, 4))\n",
    "crosstab = pd.crosstab(clinical_parameter, clinical_data['preds_snf'])\n",
    "sns.heatmap(crosstab * 100 / crosstab.sum(0), annot=True, fmt=\".1f\", ax= axes[0])\n",
    "clinical_parameter = pd.get_dummies(clinical_data[clinical_label], drop_first=True).astype(int).squeeze()\n",
    "pval = chi2_contingency(pd.crosstab(clinical_parameter, clinical_data['preds_snf'])).pvalue\n",
    "clustering_statistical_table.loc[\"Sex\", \"HC\"] = pval\n",
    "axes[0].set_title(f\"p-value= {round(pval, 3)}\", fontsize= 10)\n",
    "clinical_parameter = clinical_parameter.to_frame()\n",
    "clinical_parameter[\"preds_snf\"] = clinical_data['preds_snf']\n",
    "sns.countplot(data= clinical_data, x= clinical_label, hue= \"preds_snf\", ax= axes[1])\n",
    "for container in axes[1].containers:\n",
    "    axes[1].bar_label(container)"
   ],
   "outputs": []
  },
  {
   "cell_type": "code",
   "execution_count": 22,
   "id": "d79cac5c-5dfd-4ac8-ae90-c804080a1a3d",
   "metadata": {},
   "source": [
    "clinical_label = \"American Joint Committee on Cancer Metastasis Stage Code\"\n",
    "clinical_parameter = clinical_data[clinical_label].str[-1]\n",
    "clinical_parameter = clinical_parameter[clinical_parameter != \"X\"]\n",
    "clinical_parameter = clinical_parameter.astype(float).dropna().astype(int)\n",
    "clinical_label = \"AJN Cancer Metastasis\"\n",
    "clinical_parameter = clinical_parameter.rename(clinical_label)\n",
    "fig, axes = plt.subplots(1, 2, figsize= (12, 4))\n",
    "crosstab = pd.crosstab(clinical_parameter, clinical_data['preds_snf'])\n",
    "sns.heatmap(crosstab * 100 / crosstab.sum(0), annot=True, fmt=\".1f\", ax= axes[0])\n",
    "pval = chi2_contingency(pd.crosstab(clinical_parameter, clinical_data['preds_snf'])).pvalue\n",
    "clustering_statistical_table.loc[\"AJCC metastasis stage\", \"HC\"] = pval\n",
    "axes[0].set_title(f\"p-value= {round(pval, 3)}\", fontsize= 10)\n",
    "clinical_parameter = clinical_parameter.to_frame()\n",
    "clinical_parameter[\"preds_snf\"] = clinical_data['preds_snf']\n",
    "ax= sns.countplot(data= clinical_parameter, x= clinical_label, hue= \"preds_snf\")\n",
    "ax.set_title(f\"p-value= {pval}\", fontsize= 10)\n",
    "for container in ax.containers:\n",
    "    ax.bar_label(container)"
   ],
   "outputs": []
  },
  {
   "cell_type": "code",
   "execution_count": 23,
   "id": "075a9a07-c8eb-4d25-8964-26d442d06f6b",
   "metadata": {},
   "source": [
    "clinical_label = \"Diagnosis Age\"\n",
    "clinical_parameter = clinical_data[clinical_label].dropna()\n",
    "pval = kruskal(*[clinical_parameter[clinical_data['preds_snf'] == cl] for cl in clinical_data['preds_snf'].unique()]).pvalue\n",
    "clustering_statistical_table.loc[\"Diagnosis age\", \"HC\"] = pval\n",
    "clinical_parameter = clinical_parameter.to_frame()\n",
    "clinical_parameter[\"preds_snf\"] = clinical_data['preds_snf']\n",
    "ax = clinical_parameter.boxplot(column= clinical_label, by= \"preds_snf\", grid=False)\n",
    "_ = ax.text(1.3, 50, f\"p-value= {round(pval, 3)}\")"
   ],
   "outputs": []
  },
  {
   "cell_type": "code",
   "execution_count": null,
   "id": "ce5cf852-953c-46b5-b997-666be694f142",
   "metadata": {},
   "source": [],
   "outputs": []
  }
 ],
 "metadata": {
  "kernelspec": {
   "display_name": "Python 3 (ipykernel)",
   "language": "python",
   "name": "python3"
  },
  "language_info": {
   "codemirror_mode": {
    "name": "ipython",
    "version": 3
   },
   "file_extension": ".py",
   "mimetype": "text/x-python",
   "name": "python",
   "nbconvert_exporter": "python",
   "pygments_lexer": "ipython3",
   "version": "3.10.11"
  }
 },
 "nbformat": 4,
 "nbformat_minor": 5
}
