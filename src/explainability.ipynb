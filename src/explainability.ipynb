{
 "cells": [
  {
   "cell_type": "code",
   "execution_count": 2,
   "id": "4615a83d-b9cd-4c1d-84df-d5e75c894c71",
   "metadata": {
    "ExecuteTime": {
     "end_time": "2023-05-23T15:01:01.387894429Z",
     "start_time": "2023-05-23T15:01:01.366280485Z"
    }
   },
   "source": [
    "cd .."
   ],
   "outputs": []
  },
  {
   "cell_type": "markdown",
   "id": "d5a073f0-ba9d-4545-a0f4-a49d638b7695",
   "metadata": {},
   "source": [
    "# Multi-omics stratification on PDAC patients"
   ]
  },
  {
   "cell_type": "code",
   "execution_count": 80,
   "id": "fa7dffc4-d560-47bb-84b8-a6870d4824a1",
   "metadata": {
    "ExecuteTime": {
     "end_time": "2023-05-23T15:01:03.420757620Z",
     "start_time": "2023-05-23T15:01:03.416255778Z"
    },
    "scrolled": true
   },
   "source": [
    "import os\n",
    "import pandas as pd\n",
    "import numpy as np\n",
    "import dill\n",
    "from torch.utils.data import DataLoader\n",
    "from pytorch_lightning.utilities.seed import isolate_rng\n",
    "import torch\n",
    "from captum.attr import LayerConductance, NeuronConductance, IntegratedGradients, GradientShap, NoiseTunnel\n",
    "import types\n",
    "from scipy.stats import kruskal, mannwhitneyu, kstest\n",
    "from sklearn.pipeline import make_pipeline\n",
    "from sklearn.svm import SVC\n",
    "from sklearn.preprocessing import StandardScaler\n",
    "import matplotlib.pyplot as plt\n",
    "import seaborn as sns\n",
    "from statsmodels.stats.multitest import fdrcorrection\n",
    "\n",
    "\n",
    "from src import settings\n",
    "from utils import MultiViewDataset, transform_full_dataset\n",
    "from optimization import Optimization\n",
    "from explainability import (\n",
    "    plot_comparison_attributions_weights, plot_attribution_distribution, plot_feature_importance, layerconductance, neuronconductance,\n",
    "    FeatureAblationV2, compute_gradients, compute_mv_score, plot_attribution_algorithm_comparison, DeepV2, compute_most_important_features_based_attribution)"
   ],
   "outputs": []
  },
  {
   "cell_type": "markdown",
   "id": "5991e212-7498-4da5-b089-c355594b1113",
   "metadata": {},
   "source": [
    "## Load dataset"
   ]
  },
  {
   "cell_type": "code",
   "execution_count": 4,
   "id": "bd7dc149-d66b-4312-8b75-717aa1efee03",
   "metadata": {},
   "source": [
    "views = [\"RNAseq\", \"Methylation\"]"
   ],
   "outputs": []
  },
  {
   "cell_type": "code",
   "execution_count": 5,
   "id": "525e21f1-eb98-424d-91e1-328329b4e786",
   "metadata": {
    "ExecuteTime": {
     "end_time": "2023-05-23T15:01:09.194541257Z",
     "start_time": "2023-05-23T15:01:05.607110Z"
    }
   },
   "source": [
    "methylation_data = pd.read_csv(settings.methylation_data_path, sep=\";\", index_col=0, decimal=\",\")\n",
    "methylation_data.columns = methylation_data.columns.str.replace(\".\", \"-\")\n",
    "methylation_data = methylation_data.T\n",
    "methylation_data = methylation_data.astype(np.float32)\n",
    "print(\"methylation_data.shape\", methylation_data.shape)\n",
    "methylation_data.head()"
   ],
   "outputs": []
  },
  {
   "cell_type": "code",
   "execution_count": 6,
   "id": "5ba9fa3a-ba17-49a1-86ef-6b399dfaafed",
   "metadata": {
    "ExecuteTime": {
     "end_time": "2023-05-23T15:01:09.359360346Z",
     "start_time": "2023-05-23T15:01:09.194876421Z"
    }
   },
   "source": [
    "rnaseq_data = pd.read_csv(settings.rnaseq_data_path, sep=\";\", index_col=0, decimal=\",\")\n",
    "rnaseq_data = rnaseq_data.T\n",
    "rnaseq_data = rnaseq_data.astype(np.float32)\n",
    "print(\"rnaseq_data.shape\", rnaseq_data.shape)\n",
    "rnaseq_data.head()"
   ],
   "outputs": []
  },
  {
   "cell_type": "code",
   "execution_count": 7,
   "id": "e9f89678-93ce-419e-9d58-386a8d45026f",
   "metadata": {
    "ExecuteTime": {
     "end_time": "2023-05-23T15:01:11.293572678Z",
     "start_time": "2023-05-23T15:01:11.249405517Z"
    }
   },
   "source": [
    "samples = methylation_data.index.intersection(rnaseq_data.index)\n",
    "methylation_data = methylation_data.loc[samples]\n",
    "rnaseq_data = rnaseq_data.loc[samples]\n",
    "assert methylation_data.index.equals(rnaseq_data.index)\n",
    "Xs= [rnaseq_data, methylation_data]\n",
    "print(\"common samples:\", len(samples))"
   ],
   "outputs": []
  },
  {
   "cell_type": "code",
   "execution_count": 8,
   "id": "b613bd30-1831-41d6-adb2-e1f8de8cddb1",
   "metadata": {},
   "source": [
    "date = \"2023070315\"\n",
    "with open(os.path.join(settings.optimization_path, f'optimization_optuna_{date}.pkl'), 'rb') as file:\n",
    "    optimization_study = dill.load(file)\n",
    "optimization_results = pd.read_csv(os.path.join(settings.optimization_path, f\"optimization_results_{date}.csv\"))\n",
    "best_trial = optimization_results.iloc[0]\n",
    "print(\"optimization_results.shape\", optimization_results.shape)\n",
    "optimization_results.head()"
   ],
   "outputs": []
  },
  {
   "cell_type": "code",
   "execution_count": 9,
   "id": "8148cf23-e599-4ad5-b10e-efaeb703ba86",
   "metadata": {},
   "source": [
    "pipeline_name = f\"pipeline0.pkl\"\n",
    "with open(os.path.join(settings.results_path, pipeline_name), 'rb') as f:\n",
    "    pipeline = dill.load(f)\n",
    "pipeline"
   ],
   "outputs": []
  },
  {
   "cell_type": "code",
   "execution_count": 10,
   "id": "91e52dec-1fd9-4ed3-b390-024a76ebb6e9",
   "metadata": {},
   "source": [
    "pipeline_name = f\"pipeline1.pkl\"\n",
    "with open(os.path.join(settings.results_path, pipeline_name), 'rb') as f:\n",
    "    pipeline = dill.load(f)\n",
    "pipeline"
   ],
   "outputs": []
  },
  {
   "cell_type": "code",
   "execution_count": 11,
   "id": "a6292385-75e1-4041-80a2-c8f256f887c1",
   "metadata": {},
   "source": [
    "transformed_Xs = transform_full_dataset(Xs=Xs, fit_pipelines = False, results_folder = settings.results_path)\n",
    "transformed_X = pd.concat(transformed_Xs, axis = 1)\n",
    "features = pd.Series(np.concatenate([(view + \"_\" + X_.columns) for X_, view in zip(transformed_Xs, views)]))\n",
    "print(\"transformed_X.shape\", transformed_X.shape)\n",
    "transformed_X.head()"
   ],
   "outputs": []
  },
  {
   "cell_type": "code",
   "execution_count": 12,
   "id": "5b58f964-66e3-4f5a-8da5-f2897c6ef2de",
   "metadata": {
    "scrolled": true
   },
   "source": [
    "model_path = os.path.join(\"outputs\", \"models\", \"model.pt\")\n",
    "model = torch.load(model_path)\n",
    "model = model.eval()"
   ],
   "outputs": []
  },
  {
   "cell_type": "code",
   "execution_count": 13,
   "id": "9335d88b-e9df-4e9d-9e85-9fb084edfc1d",
   "metadata": {},
   "source": [
    "batch_size = int(best_trial[\"user_attrs_batch_size\"])\n",
    "full_data = MultiViewDataset(Xs=transformed_Xs)\n",
    "full_dataloader = DataLoader(dataset=full_data, batch_size=batch_size, shuffle=False)\n",
    "with torch.no_grad():\n",
    "    z_full = torch.vstack([model.autoencoder.encode(batch) for batch in full_dataloader])\n",
    "    clusters = model.predict_cluster_from_embedding(z_full).detach().cpu().numpy()"
   ],
   "outputs": []
  },
  {
   "cell_type": "code",
   "execution_count": 330,
   "id": "7f4d49c8-3f7c-4155-b5d1-651130de12a6",
   "metadata": {},
   "source": [
    "clusters = pd.read_csv(\"outputs/results/clusters.csv\", index_col= 0).squeeze()\n",
    "Xs = [X.loc[clusters.index] for X in Xs]"
   ],
   "outputs": []
  },
  {
   "cell_type": "code",
   "execution_count": 331,
   "id": "84208fa6-10b6-4046-a8b3-d73c75f97848",
   "metadata": {},
   "source": [
    "target = int(pd.Series(clusters).value_counts().index[1])\n",
    "inputs = tuple([torch.tensor(Xs_.values) for Xs_ in transformed_Xs])\n",
    "baselines = tuple([torch.zeros(Xs_.shape) for Xs_ in inputs])\n",
    "target"
   ],
   "outputs": []
  },
  {
   "cell_type": "code",
   "execution_count": 333,
   "id": "fbfe49dd-f7f7-4bee-893d-977842484210",
   "metadata": {
    "scrolled": true
   },
   "source": [
    "mv_scores = compute_mv_score(shap_values= shap_values, view_names= views)\n",
    "ax = pd.DataFrame([mv_scores]).plot(kind= \"bar\", ylabel= \"% contribution\", xlabel= \"Modality\", title= \"Mean contribution of each modality to the prediction\")\n",
    "for container in ax.containers:\n",
    "    ax.bar_label(container)"
   ],
   "outputs": []
  },
  {
   "cell_type": "code",
   "execution_count": null,
   "id": "18a03d29-5867-45fc-a375-db946359adfa",
   "metadata": {
    "scrolled": true
   },
   "source": [
    "explainer = DeepV2(model, data = list(baselines))\n",
    "shap_values = explainer.shap_values(list(inputs))"
   ],
   "outputs": []
  },
  {
   "cell_type": "code",
   "execution_count": 552,
   "id": "9c126aa4-0d88-415e-bc4e-729865752546",
   "metadata": {},
   "source": [
    "mv_scores = compute_mv_score(shap_values= shap_values, view_names= views)\n",
    "ax = pd.DataFrame([mv_scores]).plot(kind= \"bar\", ylabel= \"% contribution\", xlabel= \"Modality\", title= \"Mean contribution of each modality to the prediction\")\n",
    "for container in ax.containers:\n",
    "    ax.bar_label(container)"
   ],
   "outputs": []
  },
  {
   "cell_type": "code",
   "execution_count": 335,
   "id": "9f5133ea-958f-4a49-907a-87ac72224cf4",
   "metadata": {},
   "source": [
    "mv_scores"
   ],
   "outputs": []
  },
  {
   "cell_type": "code",
   "execution_count": 336,
   "id": "13077222-faf0-4bcf-8e12-790f4b62b9a7",
   "metadata": {},
   "source": [
    "mv_scores = compute_mv_score(shap_values= shap_values, view_names= views)\n",
    "mv_scores = [compute_mv_score(shap_values= shap_values, view_names= views, idx = i) for i in range(len(clusters))]\n",
    "mv_scores = pd.DataFrame(mv_scores, index= clusters.index)\n",
    "mv_scores[\"clusters\"] = clusters\n",
    "fig, axes = plt.subplots(1, 3, figsize= (20, 4))\n",
    "ax = axes[0]\n",
    "mv_scores_grouped = mv_scores.replace({\"clusters\", 0}, \"Cluster 0\").replace({\"clusters\", 1}, \"Cluster 1\").groupby(\"clusters\")\n",
    "ax = mv_scores_grouped.mean().plot(kind= \"bar\", ylabel= \"% contribution\", capsize=4, yerr= mv_scores_grouped.std(), colormap= \"Paired\", stacked= True, ax= ax, rot= 0)\n",
    "ax.get_children()[7].remove()\n",
    "ax.get_children()[7].remove()\n",
    "ax.get_children()[7].remove()\n",
    "ax.set_xlabel(\"\")\n",
    "ax.legend(loc= \"upper center\", ncols= 2, bbox_to_anchor=(0.5, 1.11))\n",
    "da_for_test= [mv_scores[mv_scores['clusters'] == cl][\"Methylation\"] for cl in mv_scores['clusters'].unique()]\n",
    "pval = round(mannwhitneyu(da_for_test[0], da_for_test[1]).pvalue, 5)\n",
    "ax.text(0.35, 80, f\"p= {round(pval, 3)}\")\n",
    "\n",
    "vio_met = pd.DataFrame([methylation_data[transformed_Xs[1].columns].loc[clusters == cl].mean(0) for cl in sorted(np.unique(clusters))],\n",
    "                       index = [f\"Cluster {cl}\" for cl in sorted(np.unique(clusters))]).T\n",
    "sns.violinplot(data= vio_met, orient= \"h\", ax = axes[1], palette= colors)\n",
    "axes[1].boxplot(vio_met, vert=False, positions= [0,1], labels= vio_met.columns, patch_artist=True, boxprops=dict(facecolor=\"green\"), showmeans= True)\n",
    "pval = round(kstest(vio_met[\"Cluster 0\"], vio_met[\"Cluster 1\"]).pvalue, 5)\n",
    "axes[1].text(0.8, .5, f\"p= {round(pval, 3)}\")\n",
    "\n",
    "vio_rna = pd.DataFrame([rnaseq_data[transformed_Xs[0].columns].loc[clusters == cl].apply(lambda x: np.log2(1 + x)).mean(0) for cl in sorted(np.unique(clusters))],\n",
    "                       index = [f\"Cluster {cl}\" for cl in sorted(np.unique(clusters))]).T\n",
    "sns.violinplot(data= vio_rna, orient= \"h\", ax = axes[2], inner=None, palette= colors)\n",
    "axes[2].boxplot(vio_rna, vert=False, positions= [0,1], labels= vio_rna.columns, patch_artist=True, boxprops=dict(facecolor=\"green\"), showmeans= True,\n",
    "                flierprops={'markersize': 1, 'markerfacecolor': 'r'})\n",
    "pval = round(kstest(vio_rna[\"Cluster 0\"], vio_rna[\"Cluster 1\"]).pvalue, 5)\n",
    "axes[2].text(14, .5, f\"p= {round(pval, 3)}\")\n",
    "\n",
    "fig.subplots_adjust()\n",
    "_ = fig.suptitle(None)"
   ],
   "outputs": []
  },
  {
   "cell_type": "code",
   "execution_count": 193,
   "id": "76f772fb-fde6-4f16-b59d-ca6843364b97",
   "metadata": {},
   "source": [
    "fig, axes = plt.subplots(1, 3, figsize= (20, 4))\n",
    "ax = axes[0]\n",
    "mv_scores_grouped = mv_scores.replace({\"clusters\", 0}, \"Cluster 0\").replace({\"clusters\", 1}, \"Cluster 1\").groupby(\"clusters\")\n",
    "ax = mv_scores_grouped.mean().plot(kind= \"bar\", ylabel= \"% contribution\", capsize=4, yerr= mv_scores_grouped.std(), colormap= \"Paired\", stacked= True, ax= ax, rot= 0)\n",
    "ax.get_children()[7].remove()\n",
    "ax.get_children()[7].remove()\n",
    "ax.get_children()[7].remove()\n",
    "ax.set_xlabel(\"\")\n",
    "ax.legend(loc= \"upper center\", ncols= 2, bbox_to_anchor=(0.5, 1.11))\n",
    "da_for_test= [mv_scores[mv_scores['clusters'] == cl][\"Methylation\"] for cl in mv_scores['clusters'].unique()]\n",
    "pval = round(mannwhitneyu(da_for_test[0], da_for_test[1]).pvalue, 5)\n",
    "ax.text(0.35, 80, f\"p= {round(pval, 3)}\")\n",
    "\n",
    "vio_met = pd.DataFrame([methylation_data[transformed_Xs[1].columns].iloc[clusters == cl].mean(0) for cl in sorted(np.unique(clusters))],\n",
    "                       index = [f\"Cluster {cl}\" for cl in sorted(np.unique(clusters))]).T\n",
    "sns.violinplot(data= vio_met, orient= \"h\", ax = axes[1], palette= colors)\n",
    "axes[1].boxplot(vio_met, vert=False, positions= [0,1], labels= vio_met.columns, patch_artist=True, boxprops=dict(facecolor=\"green\"), showmeans= True)\n",
    "pval = round(kstest(vio_met[\"Cluster 0\"], vio_met[\"Cluster 1\"]).pvalue, 5)\n",
    "axes[1].text(0.8, .5, f\"p= {round(pval, 3)}\")\n",
    "\n",
    "vio_rna = pd.DataFrame([rnaseq_data[transformed_Xs[0].columns].iloc[clusters == cl].apply(lambda x: np.log2(1 + x)).mean(0) for cl in sorted(np.unique(clusters))],\n",
    "                       index = [f\"Cluster {cl}\" for cl in sorted(np.unique(clusters))]).T\n",
    "sns.violinplot(data= vio_rna, orient= \"h\", ax = axes[2], inner=None, palette= colors)\n",
    "axes[2].boxplot(vio_rna, vert=False, positions= [0,1], labels= vio_rna.columns, patch_artist=True, boxprops=dict(facecolor=\"green\"), showmeans= True,\n",
    "                flierprops={'markersize': 1, 'markerfacecolor': 'r'})\n",
    "pval = round(kstest(vio_rna[\"Cluster 0\"], vio_rna[\"Cluster 1\"]).pvalue, 5)\n",
    "axes[2].text(14, .5, f\"p= {round(pval, 3)}\")\n",
    "\n",
    "fig.subplots_adjust()\n",
    "_ = fig.suptitle(None)"
   ],
   "outputs": []
  },
  {
   "cell_type": "code",
   "execution_count": 329,
   "id": "06539973-81af-4b2f-bbab-ae0581e56706",
   "metadata": {},
   "source": [
    "mv_scores = [compute_mv_score(shap_values= shap_values, view_names= views, idx = i) for i in range(len(clusters))]\n",
    "mv_scores = pd.DataFrame(mv_scores, clusters.index)\n",
    "mv_scores[\"clusters\"] = clusters\n",
    "ax = mv_scores.sort_values(by= \"RNAseq\", ascending= True).drop(columns= \"clusters\").plot(kind= \"bar\", ylabel= \"% contribution\", \n",
    "                                                                                         figsize= (30,8), xlabel= \"Sample\", colormap= \"Paired\", xticks= [], stacked= True)\n",
    "ax.xaxis.label.set_fontsize(16)\n",
    "ax.set_xlabel(ax.get_xlabel(), labelpad=20)\n",
    "ax.yaxis.label.set_fontsize(16)\n",
    "ax.yaxis.set_tick_params(labelsize= 16)\n",
    "_ = ax.legend(loc= \"upper center\", prop= {\"size\": 16}, ncols= 2, bbox_to_anchor=(0.5, 1.09))"
   ],
   "outputs": []
  },
  {
   "cell_type": "code",
   "execution_count": 197,
   "id": "f612f262-be38-450a-8c8b-99511f3404b5",
   "metadata": {},
   "source": [
    "ax = mv_scores.sort_values(by= \"RNAseq\", ascending= True).drop(columns= \"clusters\").plot(kind= \"bar\", ylabel= \"% contribution\", \n",
    "                                                                                         figsize= (30,8), xlabel= \"Sample\", colormap= \"Paired\", xticks= [], stacked= True)\n",
    "ax.xaxis.label.set_fontsize(16)\n",
    "ax.set_xlabel(ax.get_xlabel(), labelpad=20)\n",
    "ax.yaxis.label.set_fontsize(16)\n",
    "ax.yaxis.set_tick_params(labelsize= 16)\n",
    "_ = ax.legend(loc= \"upper center\", prop= {\"size\": 16}, ncols= 2, bbox_to_anchor=(0.5, 1.09))"
   ],
   "outputs": []
  },
  {
   "cell_type": "code",
   "execution_count": 903,
   "id": "2e060692-c59d-4322-adb4-60d82abb6304",
   "metadata": {},
   "source": [
    "ax = mv_scores.drop(columns= \"clusters\").plot(kind= \"bar\", ylabel= \"% contribution\", figsize= (30,8), xlabel= \"Sample\", colormap= \"Paired\", xticks= [], stacked= True)\n",
    "ax.xaxis.label.set_fontsize(16)\n",
    "ax.set_xlabel(ax.get_xlabel(), labelpad=20)\n",
    "ax.yaxis.label.set_fontsize(16)\n",
    "ax.yaxis.set_tick_params(labelsize= 16)\n",
    "_ = ax.legend(loc= \"upper right\", prop= {\"size\": 16})"
   ],
   "outputs": []
  },
  {
   "cell_type": "code",
   "execution_count": 835,
   "id": "51537ddd-afc7-4693-993d-ed6083067732",
   "metadata": {},
   "source": [
    "fig, axes = plt.subplots(1, 5, figsize= (20, 5), gridspec_kw={'width_ratios': [0.8, 0.1, 1, 0.01, 1]})\n",
    "axes[1].set_visible(False)\n",
    "axes[3].set_visible(False)\n",
    "ax = axes[0]\n",
    "props = mv_scores.replace({\"clusters\", 0}, \"Cluster 0\").replace({\"clusters\", 1}, \"Cluster 1\").boxplot(column= \"Methylation\", \n",
    "                                                                                                      by= 'clusters', figsize= (10, 4),\n",
    "                                                                                                      grid= False, ylabel= \"% contribution of methylation\",\n",
    "                                                                                                      showmeans= True, ax= ax, patch_artist=True, return_type='dict')\n",
    "ax.set_xlabel(\"\")\n",
    "ax.set_title(\"\")\n",
    "ax.axhline(mv_scores[\"Methylation\"].mean(), c= \"red\", linestyle= \":\")\n",
    "colors = ['#1f77b4', '#ff7f0e']\n",
    "for i,box in enumerate(props[0]['boxes']):\n",
    "    box.set_facecolor(colors[i])\n",
    "ax2 = ax.twinx()\n",
    "pval = round(kruskal(*[mv_scores[mv_scores['clusters'] == cl][\"Methylation\"] for cl in mv_scores['clusters'].unique()]).pvalue, 5)\n",
    "ax.set_ylim(0,100)\n",
    "ax2.set_ylim(100,0)\n",
    "ax2.set_ylabel(\"% contribution of gene expression\")\n",
    "_ = ax.text(1.3, 50, f\"p= {round(pval, 3)}\")\n",
    "\n",
    "vio_met = pd.DataFrame([methylation_data[transformed_Xs[1].columns].iloc[clusters == cl].mean(0) for cl in sorted(np.unique(clusters))],\n",
    "                       index = [f\"Cluster {cl}\" for cl in sorted(np.unique(clusters))]).T\n",
    "sns.violinplot(data= vio_met, orient= \"h\", ax = axes[2], palette= colors)\n",
    "axes[2].boxplot(vio_met, vert=False, positions= [0,1], labels= vio_met.columns, patch_artist=True, boxprops=dict(facecolor=\"green\"), showmeans= True)\n",
    "\n",
    "vio_rna = pd.DataFrame([rnaseq_data[transformed_Xs[0].columns].iloc[clusters == cl].apply(lambda x: np.log2(1 + x)).mean(0) for cl in sorted(np.unique(clusters))],\n",
    "                       index = [f\"Cluster {cl}\" for cl in sorted(np.unique(clusters))]).T\n",
    "sns.violinplot(data= vio_rna, orient= \"h\", ax = axes[4], inner=None, palette= colors)\n",
    "axes[4].boxplot(vio_rna, vert=False, positions= [0,1], labels= vio_rna.columns, patch_artist=True, boxprops=dict(facecolor=\"green\"), showmeans= True,\n",
    "                flierprops={'markersize': 1, 'markerfacecolor': 'r'})\n",
    "\n",
    "fig.subplots_adjust()\n",
    "_ = fig.suptitle(None)"
   ],
   "outputs": []
  },
  {
   "cell_type": "code",
   "execution_count": 553,
   "id": "d63b7908-cd57-4125-88f5-9a25c66b113c",
   "metadata": {},
   "source": [
    "mv_scores = [compute_mv_score(shap_values= shap_values, view_names= views, idx = i) for i in range(len(clusters))]\n",
    "mv_scores = pd.DataFrame(mv_scores)\n",
    "mv_scores[\"clusters\"] = clusters\n",
    "ax = mv_scores.drop(columns= \"clusters\").plot(kind= \"bar\", ylabel= \"% contribution\", figsize= (30,8), xlabel= \"Samples\", \n",
    "                                              title= \"Contribution of each modality to the prediction\")\n",
    "axes = mv_scores.boxplot(by= 'clusters', figsize= (10, 4), grid= False, ylabel= \"% contribution\", showmeans= True)\n",
    "for ax,view in zip(axes, views):\n",
    "    pval = round(kruskal(*[mv_scores[mv_scores['clusters'] == cl][view] for cl in mv_scores['clusters'].unique()]).pvalue, 5)\n",
    "    _ = ax.text(1.3, 50, f\"p-value= {round(pval, 3)}\")"
   ],
   "outputs": []
  },
  {
   "cell_type": "code",
   "execution_count": null,
   "id": "27108e9e-f724-428c-826b-07ceba4d981d",
   "metadata": {},
   "source": [
    "ig = IntegratedGradients(model)\n",
    "ig.gradient_func = compute_gradients\n",
    "ig_nt = NoiseTunnel(ig)\n",
    "gs = GradientShap(model)\n",
    "gs.gradient_func = compute_gradients\n",
    "fa = FeatureAblationV2(model)\n",
    "\n",
    "ig_attr_test = ig.attribute(inputs, target = target)\n",
    "ig_nt_attr_test = ig_nt.attribute(inputs, target = target)\n",
    "gs_attr_test = gs.attribute(inputs, inputs, target = target)\n",
    "fa_attr_test = fa.attribute(inputs, target = target)"
   ],
   "outputs": []
  },
  {
   "cell_type": "code",
   "execution_count": 850,
   "id": "8b0fdcec-ffbf-4eba-8145-0537d790051b",
   "metadata": {},
   "source": [
    "df, most_important_features = compute_most_important_features_based_attribution(features=features, algorithms=[ig_attr_test, gs_attr_test, fa_attr_test],\n",
    "                                                                                names= ['Int Grads', 'GradientSHAP', 'Feature Ablation'], top_n = 25)\n",
    "weights = torch.cat([eval(f\"model.autoencoder.encoder_{0}\")[1][0].weight for enc in range(len(views))], dim= 1).mean(0).detach().numpy()\n",
    "df[\"Weights\"] = weights / np.linalg.norm(weights, ord=1)\n",
    "df = df.loc[most_important_features]\n",
    "_ = df.plot(kind= \"bar\", figsize = (20, 8), ylabel= \"Attribution\", colormap= \"tab10\")"
   ],
   "outputs": []
  },
  {
   "cell_type": "code",
   "execution_count": 543,
   "id": "3c12e7eb-3a20-461c-8129-4c723891c984",
   "metadata": {},
   "source": [
    "plot_attribution_algorithm_comparison(features=features, algorithms= [ig_attr_test, gs_attr_test, fa_attr_test],\n",
    "                                      names= ['Int Grads', 'GradientSHAP', 'Feature Ablation'],\n",
    "                                      weights= [eval(f\"model.autoencoder.encoder_{0}\")[1][0].weight for enc in range(len(views))],\n",
    "                                      top_n = 10, figsize = (20, 8))"
   ],
   "outputs": []
  },
  {
   "cell_type": "code",
   "execution_count": 837,
   "id": "f9912f5b-ee95-4d7a-9953-eff5c1057511",
   "metadata": {},
   "source": [
    "df = pd.concat(Xs, axis= 1)\n",
    "_, most_important_features = compute_most_important_features_based_attribution(features=features, algorithms= [ig_attr_test, gs_attr_test, fa_attr_test],\n",
    "                                                                               names= ['Int Grads', 'GradientSHAP', 'Feature Ablation'], top_n = 25)\n",
    "most_important_features = [i.split(\"_\")[-1] for i in most_important_features]\n",
    "df = df[most_important_features]\n",
    "df[\"clusters\"] = clusters\n",
    "df = df.fillna(df.mean())\n",
    "\n",
    "plt.figure(figsize=(20,8))\n",
    "ax = sns.boxplot(data=pd.melt(df, id_vars='clusters').replace({\"clusters\", 0}, \"Cluster 0\").replace({\"clusters\", 1}, \"Cluster 1\"),\n",
    "                 x=\"variable\", y=\"value\", hue=\"clusters\", hue_order= [\"Cluster 0\", \"Cluster 1\"], showmeans= True, palette= colors)\n",
    "ax.tick_params(axis='x', rotation=90)\n",
    "ax.legend(title= \"\", loc= \"lower right\")\n",
    "ax.set_xlabel(\"\")\n",
    "ax.set_ylabel(\"Beta value\")\n",
    "ax.set_title(\"\")\n",
    "\n",
    "pvals = [kruskal(*[df[df['clusters'] == cl][feature] for cl in df['clusters'].unique()]).pvalue for feature in most_important_features]\n",
    "c, pvals = fdrcorrection(pvals)\n",
    "c, pvals = pd.Series(c).apply(lambda x: \"red\" if x else \"black\"), pvals.round(3)\n",
    "\n",
    "for xtick in ax.get_xticks():\n",
    "    ax.text(xtick-0.2, .98, f\"p={pvals[xtick]}\", size='x-small', color= c.iloc[xtick])"
   ],
   "outputs": []
  },
  {
   "cell_type": "code",
   "execution_count": 546,
   "id": "9af82b76-7b4b-4225-97aa-d2fb376c400b",
   "metadata": {},
   "source": [
    "print(\"Accuracy score =\", cross_val_score(SVC(), df[most_important_features], df[\"clusters\"], cv= 5).mean().round(2))"
   ],
   "outputs": []
  },
  {
   "cell_type": "code",
   "execution_count": 547,
   "id": "fcc50488-be0c-4fd5-a7a4-3dadb71576e7",
   "metadata": {},
   "source": [
    "df = pd.concat(transformed_Xs, axis= 1)\n",
    "_, most_important_features = compute_most_important_features_based_attribution(features=features, algorithms= [ig_attr_test, gs_attr_test, fa_attr_test],\n",
    "                                                                               names= ['Int Grads', 'GradientSHAP', 'Feature Ablation'], top_n = 25)\n",
    "most_important_features = [i.split(\"_\")[-1] for i in most_important_features]\n",
    "df = df[most_important_features]\n",
    "df[\"clusters\"] = clusters\n",
    "\n",
    "fig, axes = plt.subplots(2, 1, figsize= (8, 10))\n",
    "\n",
    "ax = axes[0]\n",
    "ax = sns.violinplot(data= pd.DataFrame([df.loc[df[\"clusters\"] == cl].drop(columns= \"clusters\").values.flatten() for cl in sorted(df[\"clusters\"].unique())],\n",
    "                                      index = [cl for cl in sorted(df[\"clusters\"].unique())]).T, orient= \"h\", ax = ax)\n",
    "ax.set_title(\"All feature values by cluster\")\n",
    "\n",
    "ax = axes[1]\n",
    "ax = sns.violinplot(data= pd.DataFrame([df.loc[df[\"clusters\"] == cl].drop(columns= \"clusters\").mean(0).values.flatten() for cl in sorted(df[\"clusters\"].unique())],\n",
    "                                      index = [cl for cl in sorted(df[\"clusters\"].unique())]).T, orient= \"h\",  ax = ax)\n",
    "_ = ax.set_title(\"Mean feature values by cluster\")"
   ],
   "outputs": []
  },
  {
   "cell_type": "code",
   "execution_count": 231,
   "id": "d5323bc6-3f72-4b8f-aed4-c010e4de91f0",
   "metadata": {
    "scrolled": true
   },
   "source": [
    "pd.DataFrame([df.loc[df[\"clusters\"] == cl].drop(columns= \"clusters\").mean(0).values.flatten() for cl in sorted(df[\"clusters\"].unique())],\n",
    "                                      index = [cl for cl in sorted(df[\"clusters\"].unique())]).T"
   ],
   "outputs": []
  },
  {
   "cell_type": "code",
   "execution_count": 260,
   "id": "7c66d6e4-12a5-4748-9002-4216448464a0",
   "metadata": {},
   "source": [
    "df"
   ],
   "outputs": []
  },
  {
   "cell_type": "code",
   "execution_count": 266,
   "id": "5a44f5c5-da42-4b6d-a1b5-c574beecf234",
   "metadata": {},
   "source": [
    "most_important_features = [\"cg10794257\", \"cg03306374\", \"cg09656848\", \"cg27633530\", \"cg16729415\", \"cg03650946\", \"cg16856286\", \"cg04344565\", \"cg11527326\",\n",
    "                           \"cg22674699\", \"cg27058257\", \"cg20718350\", \"cg16427096\", \"cg07589773\", \"cg01277542\", \"cg07085827\", \"cg12559197\", \"cg14004073\",\n",
    "                           \"cg16816603\", \"cg09053680\", \"cg12040830\", \"cg09493505\", \"cg20482698\", \"cg21097881\", \"cg21039708\"]\n",
    "\n",
    "df = pd.concat(Xs, axis= 1)[most_important_features]\n",
    "df[\"clusters\"] = pd.Series(clusters).replace(0, \"Cluster 0\").replace(1, \"Cluster 1\").values\n",
    "ax = sns.violinplot(data= df.groupby(\"clusters\").mean().T, orient= \"h\")"
   ],
   "outputs": []
  },
  {
   "cell_type": "code",
   "execution_count": 294,
   "id": "8a855a15-ea31-4f42-967c-9aef88b57938",
   "metadata": {},
   "source": [
    "ax.figure"
   ],
   "outputs": []
  },
  {
   "cell_type": "code",
   "execution_count": 314,
   "id": "2023f514-6ce6-4066-9388-18b40455551b",
   "metadata": {},
   "source": [
    "df = pd.concat(Xs, axis= 1)\n",
    "df = df[most_important_features]\n",
    "df[\"clusters\"] = clusters\n",
    "df = df.fillna(df.mean())\n",
    "\n",
    "plt.figure(figsize=(20,8))\n",
    "ax = sns.boxplot(data=pd.melt(df, id_vars='clusters').replace({\"clusters\", 0}, \"Cluster 0\").replace({\"clusters\", 1}, \"Cluster 1\"),\n",
    "                 x=\"variable\", y=\"value\", hue=\"clusters\", hue_order= [\"Cluster 0\", \"Cluster 1\"], showmeans= True, palette= colors)\n",
    "ax.tick_params(axis='x', rotation=90)\n",
    "ax.legend(loc= \"upper center\", ncols= 2, bbox_to_anchor=(0.5, 1.06))\n",
    "\n",
    "# ax.legend(title= \"\", loc= \"lower right\")\n",
    "ax.set_xlabel(\"\")\n",
    "ax.set_ylabel(\"Beta value\")\n",
    "ax.set_title(\"\")\n",
    "\n",
    "pvals = [kruskal(*[df[df['clusters'] == cl][feature] for cl in df['clusters'].unique()]).pvalue for feature in most_important_features]\n",
    "c, pvals = fdrcorrection(pvals)\n",
    "c, pvals = pd.Series(c).apply(lambda x: \"red\" if x else \"black\"), pvals.round(3)\n",
    "\n",
    "for xtick in ax.get_xticks():\n",
    "    ax.text(xtick-0.2, .98, f\"p={pvals[xtick]}\", size='x-small', color= c.iloc[xtick])"
   ],
   "outputs": []
  },
  {
   "cell_type": "code",
   "execution_count": 403,
   "id": "0e1f659a-61af-4642-a56b-2c13a6eef19d",
   "metadata": {},
   "source": [
    "from scipy.stats import pearsonr\n",
    "plt.figure(figsize=(20,13))\n",
    "corr = df.drop(columns= \"clusters\").corr(lambda x,y: pearsonr(x,y)[1])\n",
    "corr = corr.replace(1, 0) * (corr.size/2 - len(corr))\n",
    "ax = sns.heatmap(corr,annot=True, cmap= \"coolwarm\", fmt= \".3f\", vmax=1)"
   ],
   "outputs": []
  },
  {
   "cell_type": "code",
   "execution_count": 302,
   "id": "a029638e-9144-485c-92e2-891576fa76f0",
   "metadata": {},
   "source": [
    "plt.figure(figsize=(20,13))\n",
    "corr = df.drop(columns= \"clusters\").corr().replace(1, np.nan)\n",
    "ax = sns.heatmap(corr,annot=True, cmap= \"coolwarm\", fmt= \".2f\", vmin= -1, vmax= 1)\n",
    "# ax.figure.colorbar(ax.collections[0]).set_clim(-1,1)"
   ],
   "outputs": []
  },
  {
   "cell_type": "code",
   "execution_count": null,
   "id": "d81f30ee-c607-4dad-a6b8-b2441bd5840c",
   "metadata": {},
   "source": [
    "ax = axes[1]\n",
    "ax = sns.violinplot(data= pd.DataFrame([df.loc[df[\"clusters\"] == cl].drop(columns= \"clusters\").mean(0).values.flatten() for cl in sorted(df[\"clusters\"].unique())],\n",
    "                                      index = [cl for cl in sorted(df[\"clusters\"].unique())]).T, orient= \"h\",  ax = ax)\n",
    "_ = ax.set_title(\"Mean feature values by cluster\")"
   ],
   "outputs": []
  },
  {
   "cell_type": "code",
   "execution_count": 548,
   "id": "88808174-d6a1-49b2-8dc4-45c57996f5f4",
   "metadata": {},
   "source": [
    "fig, axes = plt.subplots(2, 1, figsize= (8, 10))\n",
    "\n",
    "ax = axes[0]\n",
    "ax = sns.violinplot(data= pd.DataFrame([df.loc[df[\"clusters\"] == cl].drop(columns= \"clusters\").values.flatten() for cl in sorted(df[\"clusters\"].unique())],\n",
    "                                      index = [cl for cl in sorted(df[\"clusters\"].unique())]).T, orient= \"h\", ax = ax)\n",
    "ax.set_title(\"All feature values by cluster\")\n",
    "\n",
    "ax = axes[1]\n",
    "ax = sns.violinplot(data= pd.DataFrame([df.loc[df[\"clusters\"] == cl].drop(columns= \"clusters\").mean(0).values.flatten() for cl in sorted(df[\"clusters\"].unique())],\n",
    "                                      index = [cl for cl in sorted(df[\"clusters\"].unique())]).T, orient= \"h\",  ax = ax)\n",
    "_ = ax.set_title(\"Mean feature values by cluster\")"
   ],
   "outputs": []
  },
  {
   "cell_type": "code",
   "execution_count": null,
   "id": "09b76536-4b75-4e6c-b8df-3ecf167a6db6",
   "metadata": {},
   "source": [
    "layer = eval(f\"model.autoencoder.encoder_{model.autoencoder.views}\")\n",
    "lc = LayerConductance(model, layer[1], device_ids = model.cluster_centers_.device)\n",
    "lc._attribute = types.MethodType(layerconductance._attribute, lc)"
   ],
   "outputs": []
  },
  {
   "cell_type": "code",
   "execution_count": 851,
   "id": "2638585e-30cf-4c10-a7a6-3cb4aeb074ec",
   "metadata": {},
   "source": [
    "def plot_comparison_attributions_weights_(lc_attr, weights, layer_name = \"embedding\", figsize=(15, 8)):\n",
    "    plt.figure(figsize=figsize)\n",
    "    x_axis_data = np.arange(lc_attr.shape[1])\n",
    "    y_axis_lc_attr = lc_attr.mean(0)\n",
    "    y_axis_lc_attr = y_axis_lc_attr / np.linalg.norm(y_axis_lc_attr, ord=1)\n",
    "    \n",
    "    y_axis_layer_weight = weights.mean(1)\n",
    "    y_axis_layer_weight = y_axis_layer_weight / np.linalg.norm(y_axis_layer_weight, ord=1)\n",
    "    width = 0.25\n",
    "    legends = ['Attributions','Weights']\n",
    "    ax = plt.subplot()\n",
    "    ax.bar(x_axis_data + width, y_axis_lc_attr, width, align='center', alpha=0.5, color='red')\n",
    "    ax.bar(x_axis_data + 2 * width, y_axis_layer_weight, width, align='center', alpha=0.5, color='green')\n",
    "    ax.set_ylabel(\"Attribution\")\n",
    "    ax.set_xlabel(\"Neuron\")\n",
    "    plt.legend(legends)\n",
    "    ax.autoscale_view()\n",
    "    if len(y_axis_layer_weight) <= 100:\n",
    "        x_axis_labels = list(range(len(y_axis_layer_weight)))\n",
    "        ax.set_xticks(x_axis_data + 0.5)\n",
    "        ax.set_xticklabels(x_axis_labels)\n",
    "    plt.show()\n",
    "\n",
    "\n",
    "plot_comparison_attributions_weights_(lc_attr = lc_attr_test.detach().numpy(), weights = layer[0].weight.detach().numpy(), layer_name = \"embedding\", figsize=(20, 8))"
   ],
   "outputs": []
  },
  {
   "cell_type": "code",
   "execution_count": 549,
   "id": "0911e9b3-7ed9-4874-8ca7-df95d0910be0",
   "metadata": {},
   "source": [
    "lc_attr_test = lc.attribute(inputs = inputs, baselines=baselines, target = target)\n",
    "plot_comparison_attributions_weights(lc_attr = lc_attr_test.detach().numpy(), weights = layer[0].weight.detach().numpy(), layer_name = \"embedding\", figsize=(20, 8))"
   ],
   "outputs": []
  },
  {
   "cell_type": "code",
   "execution_count": 550,
   "id": "a061b973-eb86-4f16-8354-f7ddea319a24",
   "metadata": {},
   "source": [
    "cond_vals = lc_attr_test.detach().numpy()\n",
    "sorted_neurons = np.abs(cond_vals.mean(0)).argsort()[::-1].tolist()\n",
    "plot_attribution_distribution(cond_vals = cond_vals, figsize = (20, 8), strong_features = sorted_neurons[:3], weak_features = sorted_neurons[-3:][::-1])"
   ],
   "outputs": []
  },
  {
   "cell_type": "code",
   "execution_count": null,
   "id": "93279ed2-24f7-458e-93ae-aa2a0af3d0ea",
   "metadata": {},
   "source": [
    "neuron_cond = NeuronConductance(model, layer[1], device_ids = model.cluster_centers_.device)\n",
    "neuron_cond._attribute = types.MethodType(neuronconductance._attribute, neuron_cond)"
   ],
   "outputs": []
  },
  {
   "cell_type": "code",
   "execution_count": 863,
   "id": "8ada97ee-96a9-4d2f-aa2b-e7dc86456ca0",
   "metadata": {},
   "source": [
    "df = pd.DataFrame()\n",
    "\n",
    "for neuron_selector in sorted_neurons:\n",
    "    neuron_cond_vals = neuron_cond.attribute(inputs = inputs, baselines=baselines, target = target, neuron_selector= neuron_selector)\n",
    "    importances = torch.cat(neuron_cond_vals, 1).mean(0).detach().numpy()\n",
    "    most_important_features = features.to_frame(\"feature\")\n",
    "    most_important_features[\"importance\"] = importances\n",
    "    for view in views:\n",
    "        df.loc[neuron_selector, view] = most_important_features[most_important_features[\"feature\"].str.startswith(view)][\"importance\"].sum()\n",
    "\n",
    "df[df < 0] = 0\n",
    "df = (df.T / df.sum(1)).T\n",
    "df = df.dropna()\n",
    "df = df.round(2) * 100\n",
    "df = df.astype(int)\n",
    "\n",
    "ax = df.plot(kind='bar', stacked=True, figsize= (25, 5), xlabel= \"Neuron\", ylabel= \"% contribution\", colormap= \"Paired\")\n",
    "for p in ax.patches:\n",
    "    width, height = p.get_width(), p.get_height()\n",
    "    x, y = p.get_xy() \n",
    "    ax.text(x+width/2, \n",
    "            y+height/2, \n",
    "            '{:.0f} %'.format(height), \n",
    "            horizontalalignment='center', \n",
    "            verticalalignment='center')"
   ],
   "outputs": []
  },
  {
   "cell_type": "code",
   "execution_count": 530,
   "id": "ebf62918-90fd-4398-8c77-d286400b5bb3",
   "metadata": {},
   "source": [
    "neuron_selector = sorted_neurons[0]\n",
    "neuron_cond_vals = neuron_cond.attribute(inputs = inputs, baselines=baselines, target = target, neuron_selector= neuron_selector)\n",
    "plot_feature_importance(features=features, top_n= 25, values= neuron_cond_vals, neuron_selector= neuron_selector, figsize= (20,6))"
   ],
   "outputs": []
  },
  {
   "cell_type": "code",
   "execution_count": 531,
   "id": "eff9c7cd-5016-4597-bd72-58d014b48bff",
   "metadata": {},
   "source": [
    "importances = torch.cat(neuron_cond_vals, 1).mean(0).detach().numpy()\n",
    "most_important_features = features.to_frame(\"feature\")\n",
    "most_important_features[\"importance\"] = importances\n",
    "most_important_features = most_important_features.sort_values(\"importance\", ascending= False).iloc[:25]\n",
    "most_important_features = most_important_features.set_index(\"feature\")\n",
    "df = pd.concat(transformed_Xs, axis= 1)\n",
    "most_important_features = [i.split(\"_\")[-1] for i in most_important_features.index.to_list()]\n",
    "df = df[most_important_features]\n",
    "df[\"clusters\"] = clusters\n",
    "\n",
    "plt.figure(figsize=(20,8))\n",
    "ax = sns.boxplot(data=pd.melt(df, id_vars='clusters'), x=\"variable\", y=\"value\", hue=\"clusters\", showmeans= True)\n",
    "ax.set_title(f\"Boxplots for top input features for neuron {neuron_selector} grouped by clusters\")\n",
    "ax.tick_params(axis='x', rotation=90)\n",
    "ax.legend(title= \"clusters\", loc= \"lower right\")\n",
    "\n",
    "pvals = [kruskal(*[df[df['clusters'] == cl][feature] for cl in df['clusters'].unique()]).pvalue for feature in most_important_features]\n",
    "c, pvals = fdrcorrection(pvals)\n",
    "c, pvals = pd.Series(c).apply(lambda x: \"red\" if x else \"black\"), pvals.round(3)\n",
    "\n",
    "for xtick in ax.get_xticks():\n",
    "    ax.text(xtick-0.2, 3.3, pvals[xtick], size='x-small', color= c.iloc[xtick])"
   ],
   "outputs": []
  },
  {
   "cell_type": "code",
   "execution_count": 532,
   "id": "3112d35e-903d-4ae9-a228-3568c1e99c3b",
   "metadata": {},
   "source": [
    "print(\"Accuracy score =\", cross_val_score(SVC(), df[most_important_features], df[\"clusters\"], cv= 5).mean().round(2))"
   ],
   "outputs": []
  },
  {
   "cell_type": "code",
   "execution_count": 533,
   "id": "036d471b-5aa7-4b1f-a1c0-d46c6d0404bc",
   "metadata": {},
   "source": [
    "neuron_selector = sorted_neurons[1]\n",
    "neuron_cond_vals = neuron_cond.attribute(inputs = inputs, baselines=baselines, target = target, neuron_selector= neuron_selector)\n",
    "plot_feature_importance(features=features, top_n= 25, values= neuron_cond_vals, neuron_selector= neuron_selector, figsize= (20,6))"
   ],
   "outputs": []
  },
  {
   "cell_type": "code",
   "execution_count": 534,
   "id": "f1c0641e-d14b-40d1-bcac-2814f9a38858",
   "metadata": {},
   "source": [
    "importances = torch.cat(neuron_cond_vals, 1).mean(0).detach().numpy()\n",
    "most_important_features = features.to_frame(\"feature\")\n",
    "most_important_features[\"importance\"] = importances\n",
    "most_important_features = most_important_features.sort_values(\"importance\", ascending= False).iloc[:25]\n",
    "most_important_features = most_important_features.set_index(\"feature\")\n",
    "df = pd.concat(transformed_Xs, axis= 1)\n",
    "most_important_features = [i.split(\"_\")[-1] for i in most_important_features.index.to_list()]\n",
    "df = df[most_important_features]\n",
    "df[\"clusters\"] = clusters\n",
    "\n",
    "plt.figure(figsize=(20,8))\n",
    "ax = sns.boxplot(data=pd.melt(df, id_vars='clusters'), x=\"variable\", y=\"value\", hue=\"clusters\", showmeans= True)\n",
    "ax.set_title(f\"Boxplots for top input features for neuron {neuron_selector} grouped by clusters\")\n",
    "ax.tick_params(axis='x', rotation=90)\n",
    "ax.legend(title= \"clusters\", loc= \"lower right\")\n",
    "\n",
    "pvals = [kruskal(*[df[df['clusters'] == cl][feature] for cl in df['clusters'].unique()]).pvalue for feature in most_important_features]\n",
    "c, pvals = fdrcorrection(pvals)\n",
    "c, pvals = pd.Series(c).apply(lambda x: \"red\" if x else \"black\"), pvals.round(3)\n",
    "\n",
    "for xtick in ax.get_xticks():\n",
    "    ax.text(xtick-0.2, 5.3, pvals[xtick], size='x-small', color= c.iloc[xtick])"
   ],
   "outputs": []
  },
  {
   "cell_type": "code",
   "execution_count": 535,
   "id": "0f687957-b1f7-4473-b1d4-565a1c15e886",
   "metadata": {},
   "source": [
    "print(\"Accuracy score =\", cross_val_score(SVC(), df[most_important_features], df[\"clusters\"], cv= 5).mean().round(2))"
   ],
   "outputs": []
  },
  {
   "cell_type": "code",
   "execution_count": 536,
   "id": "8b1e1f11-ed71-4d5d-a849-b8157aba6ba8",
   "metadata": {},
   "source": [
    "neuron_selector = sorted_neurons[2]\n",
    "neuron_cond_vals = neuron_cond.attribute(inputs = inputs, baselines=baselines, target = target, neuron_selector= neuron_selector)\n",
    "plot_feature_importance(features=features, top_n= 25, values= neuron_cond_vals, neuron_selector= neuron_selector, figsize= (20,6))"
   ],
   "outputs": []
  },
  {
   "cell_type": "code",
   "execution_count": 537,
   "id": "69bbb3a6-a3bf-4054-9152-f7da87b853d7",
   "metadata": {},
   "source": [
    "importances = torch.cat(neuron_cond_vals, 1).mean(0).detach().numpy()\n",
    "most_important_features = features.to_frame(\"feature\")\n",
    "most_important_features[\"importance\"] = importances\n",
    "most_important_features = most_important_features.sort_values(\"importance\", ascending= False).iloc[:25]\n",
    "most_important_features = most_important_features.set_index(\"feature\")\n",
    "df = pd.concat(transformed_Xs, axis= 1)\n",
    "most_important_features = [i.split(\"_\")[-1] for i in most_important_features.index.to_list()]\n",
    "df = df[most_important_features]\n",
    "df[\"clusters\"] = clusters\n",
    "\n",
    "plt.figure(figsize=(20,8))\n",
    "ax = sns.boxplot(data=pd.melt(df, id_vars='clusters'), x=\"variable\", y=\"value\", hue=\"clusters\", showmeans= True)\n",
    "ax.set_title(f\"Boxplots for top input features for neuron {neuron_selector} grouped by clusters\")\n",
    "ax.tick_params(axis='x', rotation=90)\n",
    "ax.legend(title= \"clusters\", loc= \"lower right\")\n",
    "\n",
    "pvals = [kruskal(*[df[df['clusters'] == cl][feature] for cl in df['clusters'].unique()]).pvalue for feature in most_important_features]\n",
    "c, pvals = fdrcorrection(pvals)\n",
    "c, pvals = pd.Series(c).apply(lambda x: \"red\" if x else \"black\"), pvals.round(3)\n",
    "\n",
    "for xtick in ax.get_xticks():\n",
    "    ax.text(xtick-0.2, 5.3, pvals[xtick], size='x-small', color= c.iloc[xtick])"
   ],
   "outputs": []
  },
  {
   "cell_type": "code",
   "execution_count": 538,
   "id": "3a5a973b-7c9e-4ecd-aae6-24276f2bff80",
   "metadata": {},
   "source": [
    "print(\"Accuracy score =\", cross_val_score(SVC(), df[most_important_features], df[\"clusters\"], cv= 5).mean().round(2))"
   ],
   "outputs": []
  }
 ],
 "metadata": {
  "kernelspec": {
   "display_name": "Python 3 (ipykernel)",
   "language": "python",
   "name": "python3"
  },
  "language_info": {
   "codemirror_mode": {
    "name": "ipython",
    "version": 3
   },
   "file_extension": ".py",
   "mimetype": "text/x-python",
   "name": "python",
   "nbconvert_exporter": "python",
   "pygments_lexer": "ipython3",
   "version": "3.10.11"
  }
 },
 "nbformat": 4,
 "nbformat_minor": 5
}
