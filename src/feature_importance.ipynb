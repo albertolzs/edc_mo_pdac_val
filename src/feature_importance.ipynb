{
 "cells": [
  {
   "cell_type": "code",
   "execution_count": 1,
   "id": "4615a83d-b9cd-4c1d-84df-d5e75c894c71",
   "metadata": {
    "ExecuteTime": {
     "end_time": "2023-05-23T15:01:01.387894429Z",
     "start_time": "2023-05-23T15:01:01.366280485Z"
    }
   },
   "source": [
    "cd .."
   ],
   "outputs": []
  },
  {
   "cell_type": "markdown",
   "id": "d5a073f0-ba9d-4545-a0f4-a49d638b7695",
   "metadata": {},
   "source": [
    "# Multi-omics stratification on PDAC patients"
   ]
  },
  {
   "cell_type": "code",
   "execution_count": 2,
   "id": "fa7dffc4-d560-47bb-84b8-a6870d4824a1",
   "metadata": {
    "ExecuteTime": {
     "end_time": "2023-05-23T15:01:03.420757620Z",
     "start_time": "2023-05-23T15:01:03.416255778Z"
    }
   },
   "source": [
    "import os\n",
    "import pandas as pd\n",
    "import numpy as np\n",
    "import optuna\n",
    "import time\n",
    "import dill\n",
    "import shutil\n",
    "from optuna.samplers import TPESampler\n",
    "\n",
    "from src import settings\n",
    "from explainability import FeatureImportance\n",
    "from utils import transform_full_dataset"
   ],
   "outputs": []
  },
  {
   "cell_type": "markdown",
   "id": "5991e212-7498-4da5-b089-c355594b1113",
   "metadata": {},
   "source": [
    "## Load dataset"
   ]
  },
  {
   "cell_type": "code",
   "execution_count": 3,
   "id": "525e21f1-eb98-424d-91e1-328329b4e786",
   "metadata": {
    "ExecuteTime": {
     "end_time": "2023-05-23T15:01:09.194541257Z",
     "start_time": "2023-05-23T15:01:05.607110Z"
    }
   },
   "source": [
    "methylation_data = pd.read_csv(settings.methylation_data_path, sep=\";\", index_col=0, decimal=\",\")\n",
    "methylation_data.columns = methylation_data.columns.str.replace(\".\", \"-\")\n",
    "methylation_data = methylation_data.T\n",
    "methylation_data = methylation_data.astype(np.float32)\n",
    "print(\"methylation_data.shape\", methylation_data.shape)\n",
    "methylation_data.head()"
   ],
   "outputs": []
  },
  {
   "cell_type": "code",
   "execution_count": 4,
   "id": "5ba9fa3a-ba17-49a1-86ef-6b399dfaafed",
   "metadata": {
    "ExecuteTime": {
     "end_time": "2023-05-23T15:01:09.359360346Z",
     "start_time": "2023-05-23T15:01:09.194876421Z"
    }
   },
   "source": [
    "rnaseq_data = pd.read_csv(settings.rnaseq_data_path, sep=\";\", index_col=0, decimal=\",\")\n",
    "rnaseq_data = rnaseq_data.T\n",
    "rnaseq_data = rnaseq_data.astype(np.float32)\n",
    "print(\"rnaseq_data.shape\", rnaseq_data.shape)\n",
    "rnaseq_data.head()"
   ],
   "outputs": []
  },
  {
   "cell_type": "code",
   "execution_count": 5,
   "id": "e9f89678-93ce-419e-9d58-386a8d45026f",
   "metadata": {
    "ExecuteTime": {
     "end_time": "2023-05-23T15:01:11.293572678Z",
     "start_time": "2023-05-23T15:01:11.249405517Z"
    }
   },
   "source": [
    "samples = methylation_data.index.intersection(rnaseq_data.index)\n",
    "methylation_data = methylation_data.loc[samples]\n",
    "rnaseq_data = rnaseq_data.loc[samples]\n",
    "assert methylation_data.index.equals(rnaseq_data.index)\n",
    "Xs= [rnaseq_data, methylation_data]\n",
    "print(\"common samples:\", len(samples))"
   ],
   "outputs": []
  },
  {
   "cell_type": "code",
   "execution_count": 6,
   "id": "b613bd30-1831-41d6-adb2-e1f8de8cddb1",
   "metadata": {},
   "source": [
    "date = \"2023070315\"\n",
    "with open(os.path.join(settings.optimization_path, f'optimization_optuna_{date}.pkl'), 'rb') as file:\n",
    "    optimization_study = dill.load(file)\n",
    "optimization_results = pd.read_csv(os.path.join(settings.optimization_path, f\"optimization_results_{date}.csv\"))\n",
    "best_trial = optimization_results.iloc[0]\n",
    "print(\"optimization_results.shape\", optimization_results.shape)\n",
    "optimization_results.head()"
   ],
   "outputs": []
  },
  {
   "cell_type": "code",
   "execution_count": 7,
   "id": "a6292385-75e1-4041-80a2-c8f256f887c1",
   "metadata": {},
   "source": [
    "transformed_Xs = transform_full_dataset(Xs=Xs, fit_pipelines = False, results_folder = settings.results_path)\n",
    "transformed_X = pd.concat(transformed_Xs, axis = 1)\n",
    "print(\"transformed_X.shape\", transformed_X.shape)\n",
    "transformed_X.head()"
   ],
   "outputs": []
  },
  {
   "cell_type": "code",
   "execution_count": 8,
   "id": "19465088-e340-4228-9f13-a7c1639a7511",
   "metadata": {},
   "source": [
    "new_study = False\n",
    "if new_study:\n",
    "    date = time.strftime('%Y%m%d%H')\n",
    "    feature_importance_study = optuna.create_study(direction=\"maximize\")\n",
    "    for file in os.listdir(settings.feature_importance_path):\n",
    "        try:\n",
    "            os.remove(os.path.join(settings.feature_importance_path, file))\n",
    "        except IsADirectoryError:\n",
    "            shutil.rmtree(os.path.join(settings.feature_importance_path, file), ignore_errors= True)\n",
    "    for view_idx, X in enumerate(transformed_Xs):\n",
    "        features = X.columns.to_list()\n",
    "        for feature_to_drop in features:\n",
    "            feature_importance_study.enqueue_trial({\"view_idx\": view_idx, \"feature_to_drop\": feature_to_drop})\n",
    "    print(\"Features tu explain:\", len(feature_importance_study.trials))\n",
    "\n",
    "else:\n",
    "    date = \"2023070718\"\n",
    "    with open(os.path.join(settings.feature_importance_path, f'feature_importance_results_{date}.pkl'), 'rb') as file:\n",
    "        feature_importance_study = dill.load(file)"
   ],
   "outputs": []
  },
  {
   "cell_type": "code",
   "execution_count": null,
   "id": "04148d87-400a-4423-8986-57a6d0fe310f",
   "metadata": {
    "scrolled": true
   },
   "source": [
    "func_objective = lambda trial: FeatureImportance().objective(trial= trial, Xs= Xs, samples= samples, original_score = optimization_study.best_value,\n",
    "                                                             features_per_component = optimization_study.best_params[\"features_per_component\"],\n",
    "                                                             in_channels_list = eval(best_trial[\"user_attrs_num_features\"]),\n",
    "                                                             hidden_channels_list = [view_hidden[1:] for view_hidden in eval(best_trial[\"user_attrs_num_units\"])],\n",
    "                                                             n_clusters = optimization_study.best_params[\"n_clusters\"],\n",
    "                                                             n_epochs = optimization_study.best_params[\"n_epochs\"],\n",
    "                                                             lambda_coeff = optimization_study.best_params[\"lambda_coeff\"],\n",
    "                                                             latent_space = optimization_study.best_params[\"latent_space\"],\n",
    "                                                             batch_size = int(best_trial[\"user_attrs_batch_size\"]),\n",
    "                                                             optimization_folder = settings.optimization_path,\n",
    "                                                             random_state=settings.RANDOM_STATE, n_jobs= 2, folder= settings.feature_importance_path)\n",
    "\n",
    "keep_trying = True\n",
    "while keep_trying:\n",
    "    try:\n",
    "        feature_importance_study = FeatureImportance.optimize_optuna_and_save(study= feature_importance_study, n_trials = len(feature_importance_study.trials), date=date, \n",
    "                                                                              show_progress_bar= True, folder= settings.feature_importance_path, func= func_objective)\n",
    "        if new_study:\n",
    "            keep_trying = False\n",
    "    except FileNotFoundError:\n",
    "        pass\n",
    "    except ValueError:\n",
    "        pass"
   ],
   "outputs": []
  },
  {
   "cell_type": "code",
   "execution_count": 9,
   "id": "e8984957-a31d-4c13-aa25-70bad5d25db8",
   "metadata": {},
   "source": [
    "current_study = feature_importance_study.trials_dataframe()[[\"system_attrs_fixed_params\", \"value\"]].dropna().sort_values(\"value\", ascending = False)\n",
    "current_study[\"system_attrs_fixed_params\"] = current_study[\"system_attrs_fixed_params\"].apply(lambda x: x[\"feature_to_drop\"])\n",
    "_ = current_study.iloc[:50].plot.bar(x='system_attrs_fixed_params', y='value', ylabel='Feature importance', xlabel = \"RNA-seq\", \n",
    "                                     title= \"Feature Permutation plot\", figsize= (20, 6))"
   ],
   "outputs": []
  }
 ],
 "metadata": {
  "kernelspec": {
   "display_name": "Python 3 (ipykernel)",
   "language": "python",
   "name": "python3"
  },
  "language_info": {
   "codemirror_mode": {
    "name": "ipython",
    "version": 3
   },
   "file_extension": ".py",
   "mimetype": "text/x-python",
   "name": "python",
   "nbconvert_exporter": "python",
   "pygments_lexer": "ipython3",
   "version": "3.10.11"
  }
 },
 "nbformat": 4,
 "nbformat_minor": 5
}
